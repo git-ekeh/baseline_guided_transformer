{
  "cells": [
    {
      "cell_type": "markdown",
      "metadata": {
        "id": "view-in-github",
        "colab_type": "text"
      },
      "source": [
        "<a href=\"https://colab.research.google.com/github/git-ekeh/baseline_guided_transformer/blob/master/summarizer_from_scratch.ipynb\" target=\"_parent\"><img src=\"https://colab.research.google.com/assets/colab-badge.svg\" alt=\"Open In Colab\"/></a>"
      ]
    },
    {
      "cell_type": "markdown",
      "source": [
        "**Mounting my Google Drive to access the file directory from this notebook**"
      ],
      "metadata": {
        "id": "U1njWofIZc8l"
      }
    },
    {
      "cell_type": "code",
      "execution_count": null,
      "metadata": {
        "colab": {
          "base_uri": "https://localhost:8080/"
        },
        "id": "pjJZmdh2CLon",
        "outputId": "ab02cd02-6abf-4ad0-dedb-1d1fa3922906"
      },
      "outputs": [
        {
          "name": "stdout",
          "output_type": "stream",
          "text": [
            "Mounted at /content/gdrive\n"
          ]
        }
      ],
      "source": [
        "from google.colab import drive\n",
        "drive.mount('/content/gdrive', force_remount=True)"
      ]
    },
    {
      "cell_type": "markdown",
      "source": [
        "**Installing Tensorflow as Deep Learning Library of choice, along with various libraries to aid in the text preprocessing**\n"
      ],
      "metadata": {
        "id": "gOGzLPCbZq5t"
      }
    },
    {
      "cell_type": "code",
      "execution_count": null,
      "metadata": {
        "id": "dyzubpdJc5ob"
      },
      "outputs": [],
      "source": [
        "!pip install tensorflow-text\n",
        "!pip install tensorflow_datasets\n",
        "!pip install protobuf==3.20.*"
      ]
    },
    {
      "cell_type": "code",
      "execution_count": null,
      "metadata": {
        "id": "EVIIA8dNdCVZ"
      },
      "outputs": [],
      "source": [
        "!pip3 install tensorflow as tf\n",
        "!pip3 install transformers\n",
        "!pip3 install spacy\n",
        "!pip3 install datasets\n",
        "!pip3 install numpy as np\n",
        "!pip3 install matplotlib"
      ]
    },
    {
      "cell_type": "code",
      "execution_count": null,
      "metadata": {
        "id": "p1wF1k-_dIet"
      },
      "outputs": [],
      "source": [
        "import collections\n",
        "import os\n",
        "import pathlib\n",
        "import re\n",
        "import string\n",
        "import sys\n",
        "import tempfile\n",
        "import time\n",
        "\n",
        "import numpy as np\n",
        "import matplotlib.pyplot as plt\n",
        "import pandas as pd\n",
        "import collections\n",
        "import itertools\n",
        "import tensorflow_datasets as tfds\n",
        "import tensorflow_text as text\n",
        "import tensorflow as tf\n",
        "import pickle\n",
        "import datasets\n",
        "import transformers\n",
        "from transformers import DataCollatorWithPadding\n",
        "from transformers import BertTokenizer, AutoTokenizer\n",
        "from transformers import DataCollatorWithPadding\n",
        "from datasets import load_dataset, Dataset"
      ]
    },
    {
      "cell_type": "code",
      "execution_count": null,
      "metadata": {
        "id": "mRyVrsS1SNmt"
      },
      "outputs": [],
      "source": [
        "import locale\n",
        "def getpreferredencoding(do_setlocale = True):\n",
        "    return \"UTF-8\"\n",
        "locale.getpreferredencoding = getpreferredencoding"
      ]
    },
    {
      "cell_type": "markdown",
      "source": [
        "**I used a custom algorithm I developed for my master's thesis to annotate the XSUM dataset with a guidance feature, using TextRank and an 8 Core CPU and stored them in separate dictionaries for later use.**"
      ],
      "metadata": {
        "id": "obxIQ_6LbMWM"
      }
    },
    {
      "cell_type": "code",
      "execution_count": null,
      "metadata": {
        "colab": {
          "base_uri": "https://localhost:8080/"
        },
        "id": "tsmHd3gXPUin",
        "outputId": "3404f59b-bf52-4ae0-d4ca-60eb84d2ca41"
      },
      "outputs": [
        {
          "name": "stdout",
          "output_type": "stream",
          "text": [
            "{'id': '38295789', 'document': 'The ex-Reading defender denied fraudulent trading charges relating to the Sodje Sports Foundation - a charity to raise money for Nigerian sport.\\nMr Sodje, 37, is jointly charged with elder brothers Efe, 44, Bright, 50 and Stephen, 42.\\nAppearing at the Old Bailey earlier, all four denied the offence.\\nThe charge relates to offences which allegedly took place between 2008 and 2014.\\nSam, from Kent, Efe and Bright, of Greater Manchester, and Stephen, from Bexley, are due to stand trial in July.\\nThey were all released on bail.', 'summary': 'Former Premier League footballer Sam Sodje has appeared in court alongside three brothers accused of charity fraud.', 'guidance': ['charges', 'Bright', 'Sodje', 'Sports', 'Foundation', 'Efe', 'trading', 'Stephen', 'defender', 'charity', 'brothers', 'Greater']}\n",
            "11332\n",
            "<class 'dict'>\n",
            "{'id': '35232142', 'document': 'The full cost of damage in Newton Stewart, one of the areas worst affected, is still being assessed.\\nRepair work is ongoing in Hawick and many roads in Peeblesshire remain badly affected by standing water.\\nTrains on the west coast mainline face disruption due to damage at the Lamington Viaduct.\\nMany businesses and householders were affected by flooding in Newton Stewart after the River Cree overflowed into the town.\\nFirst Minister Nicola Sturgeon visited the area to inspect the damage.\\nThe waters breached a retaining wall, flooding many commercial properties on Victoria Street - the main shopping thoroughfare.\\nJeanette Tate, who owns the Cinnamon Cafe which was badly affected, said she could not fault the multi-agency response once the flood hit.\\nHowever, she said more preventative work could have been carried out to ensure the retaining wall did not fail.\\n\"It is difficult but I do think there is so much publicity for Dumfries and the Nith - and I totally appreciate that - but it is almost like we\\'re neglected or forgotten,\" she said.\\n\"That may not be true but it is perhaps my perspective over the last few days.\\n\"Why were you not ready to help us a bit more when the warning and the alarm alerts had gone out?\"\\nMeanwhile, a flood alert remains in place across the Borders because of the constant rain.\\nPeebles was badly hit by problems, sparking calls to introduce more defences in the area.\\nScottish Borders Council has put a list on its website of the roads worst affected and drivers have been urged not to ignore closure signs.\\nThe Labour Party\\'s deputy Scottish leader Alex Rowley was in Hawick on Monday to see the situation first hand.\\nHe said it was important to get the flood protection plan right but backed calls to speed up the process.\\n\"I was quite taken aback by the amount of damage that has been done,\" he said.\\n\"Obviously it is heart-breaking for people who have been forced out of their homes and the impact on businesses.\"\\nHe said it was important that \"immediate steps\" were taken to protect the areas most vulnerable and a clear timetable put in place for flood prevention plans.\\nHave you been affected by flooding in Dumfries and Galloway or the Borders? Tell us about your experience of the situation and how it was handled. Email us on selkirk.news@bbc.co.uk or dumfries@bbc.co.uk.', 'summary': 'Clean-up operations are continuing across the Scottish Borders and Dumfries and Galloway after flooding caused by Storm Frank.', 'guidance': ['flood', 'damage', 'Hawick', 'roads', 'Borders', 'place', 'calls', 'Stewart', 'area', 'Newton', 'Rowley', 'Victoria']}\n",
            "204045\n",
            "<class 'dict'>\n"
          ]
        }
      ],
      "source": [
        "#import train and val dictionaries\n",
        "import pickle\n",
        "\n",
        "with open('/content/gdrive/MyDrive/U of T Data Science Masters /Thesis_Summer_2023/code/validation_dictionary.pkl', 'rb') as file:\n",
        "    validation_data = pickle.load(file)\n",
        "\n",
        "validation_dict = validation_data\n",
        "\n",
        "print(validation_dict['0'])\n",
        "print(len(validation_dict))\n",
        "print(type(validation_dict))\n",
        "\n",
        "\n",
        "with open('/content/gdrive/MyDrive/U of T Data Science Masters /Thesis_Summer_2023/code/train_dict.pkl', 'rb') as file:\n",
        "  train_data = pickle.load(file)\n",
        "\n",
        "train_dict = train_data\n",
        "\n",
        "print(train_dict['0'])\n",
        "print(len(train_dict))\n",
        "print(type(train_dict))\n"
      ]
    },
    {
      "cell_type": "markdown",
      "source": [
        "# **Data cleaning and transformation**"
      ],
      "metadata": {
        "id": "dkh7pGwLeDMY"
      }
    },
    {
      "cell_type": "code",
      "execution_count": null,
      "metadata": {
        "id": "xpeQu8L_Wbul"
      },
      "outputs": [],
      "source": [
        "# Convert dictionaries to dataframes and transpose them to get the appropriate features of the dataframes\n",
        "\n",
        "df_train = pd.DataFrame.from_dict(train_dict)\n",
        "df_val = pd.DataFrame.from_dict(validation_dict)\n",
        "\n",
        "transpose_df_train = df_train.T\n",
        "transpose_df_val = df_val.T\n",
        "\n"
      ]
    },
    {
      "cell_type": "code",
      "execution_count": null,
      "metadata": {
        "colab": {
          "base_uri": "https://localhost:8080/"
        },
        "id": "VpqByKJ6XJ6Q",
        "outputId": "b3093a6e-ad35-48d5-e4de-e11a8e84e729"
      },
      "outputs": [
        {
          "name": "stdout",
          "output_type": "stream",
          "text": [
            "Dataset({\n",
            "    features: ['document', 'summary', 'guidance'],\n",
            "    num_rows: 204045\n",
            "})\n",
            "Dataset({\n",
            "    features: ['document', 'summary', 'guidance'],\n",
            "    num_rows: 11332\n",
            "})\n"
          ]
        }
      ],
      "source": [
        "# pickle the tensors in a separate file\n",
        "# Convert the dataframe rows to lists to avoid error: TextEncodeInput must be Union[TextInputSequence, Tuple[InputSequence, InputSequence]]\n",
        "transpose_df_train['id'] = transpose_df_train['id'].values.tolist()\n",
        "transpose_df_train['document'] = transpose_df_train['document'].values.tolist()\n",
        "transpose_df_train['summary'] = transpose_df_train['summary'].values.tolist()\n",
        "transpose_df_train['guidance'] = transpose_df_train['guidance'].values.tolist()\n",
        "\n",
        "transpose_df_val['id'] = transpose_df_val['id'].values.tolist()\n",
        "transpose_df_val['document'] = transpose_df_val['document'].values.tolist()\n",
        "transpose_df_val['summary'] = transpose_df_val['summary'].values.tolist()\n",
        "transpose_df_val['guidance'] = transpose_df_val['guidance'].values.tolist()\n",
        "\n",
        "# Convert Dataframes to Datasets\n",
        "dataset_train = Dataset.from_pandas(transpose_df_train)\n",
        "dataset_val = Dataset.from_pandas(transpose_df_val)\n",
        "\n",
        "dataset_train = dataset_train.remove_columns(\"__index_level_0__\")\n",
        "dataset_train = dataset_train.remove_columns(\"id\")\n",
        "dataset_val = dataset_val.remove_columns(\"__index_level_0__\")\n",
        "dataset_val = dataset_val.remove_columns(\"id\")\n",
        "\n",
        "print(dataset_train)\n",
        "print(dataset_val)"
      ]
    },
    {
      "cell_type": "markdown",
      "source": [
        "**The guidance feature is represented by the words in parentheses**"
      ],
      "metadata": {
        "id": "5A6Qy0eJQm0h"
      }
    },
    {
      "cell_type": "code",
      "execution_count": null,
      "metadata": {
        "colab": {
          "base_uri": "https://localhost:8080/"
        },
        "id": "gDzQsXaOXOfz",
        "outputId": "69f69536-22ff-4efa-f462-37d662f94f51"
      },
      "outputs": [
        {
          "name": "stdout",
          "output_type": "stream",
          "text": [
            "A fire alarm went off at the Holiday Inn in Hope Street at about 04:20 BST on Saturday and guests were asked to leave the hotel.\n",
            "As they gathered outside they saw the two buses, parked side-by-side in the car park, engulfed by flames.\n",
            "One of the tour groups is from Germany, the other from China and Taiwan. It was their first night in Northern Ireland.\n",
            "The driver of one of the buses said many of the passengers had left personal belongings on board and these had been destroyed.\n",
            "Both groups have organised replacement coaches and will begin their tour of the north coast later than they had planned.\n",
            "Police have appealed for information about the attack.\n",
            "Insp David Gibson said: \"It appears as though the fire started under one of the buses before spreading to the second.\n",
            "\"While the exact cause is still under investigation, it is thought that the fire was started deliberately.\"\n",
            "Two tourist buses have been destroyed by fire in a suspected arson attack in Belfast city centre.\n",
            "['buses', 'fire', 'tour', 'groups', 'BST', 'Inn', 'Street', 'Hope', 'coaches', 'Saturday', 'night', 'Northern']\n"
          ]
        }
      ],
      "source": [
        "print(dataset_train[1]['document'])\n",
        "print(dataset_train[1]['summary'])\n",
        "print(dataset_train[1]['guidance'])"
      ]
    },
    {
      "cell_type": "code",
      "execution_count": null,
      "metadata": {
        "colab": {
          "base_uri": "https://localhost:8080/",
          "height": 167,
          "referenced_widgets": [
            "ecfd22b53d5b44b9a1ffd8671c5876ca",
            "b602fa89227b42ba8e0b720a17b6f165",
            "5774504fff924f769d5ab9a628d83b2a",
            "977bb73b9496419d8f5d2b66d85f17c2",
            "424fda188011446d8ce51c3133ae4bfc",
            "676535c67fc8414880899ee9c619c8b3",
            "02d8ca41dce3428aae719213898f9808",
            "901e5ff5718b467d82e685c39b40865e",
            "11050daeb12741ee8adad914b6b77a54",
            "ed445f9b65ac4d2ebca738d05f619263",
            "818a44af397c4f9983127348759e8293",
            "a4a3951581c24d4498cda005e299b848",
            "7ab5f306a9844a4cb3de02be4145330a",
            "86c4397de31c474098482814127d994d",
            "26c1f6be8afa4e7eb509a1a17e673a42",
            "e6a3b198556640749d67dd7c354cabbe",
            "ed908112647b49f5837cf9b473bf3f4a",
            "9d31abeccfa943638dc40100b7fa9e72",
            "477575de87944a7692a5746bd3fc138c",
            "000e34499eb042ea9ca4fc2614d19084",
            "fab7402bb1a34fb1ad1557f2b0846228",
            "ab5b16f236c549d5bdfda3c25d6966a9",
            "ea741ba2513f4e6e98e3cb6ac40b38e2",
            "44b798e5a28f4bfdb0f4bd0b1938954c",
            "26933ab511f541a1af72f4deaee4ab6f",
            "01678e2132634640b3b64c72bf4bb514",
            "b9872955e4e14e75a0b7e4ba6a0646c2",
            "e461b628f8a741f48e7c758eb24e6dc8",
            "82e7ceae605546659cdaaeaf993392a4",
            "389d001a58684ca2a65dbaa17c342f9f",
            "baac093d029a4426a27e4027611d2460",
            "cb70f5ca974d4f3790bd74ab798f4958",
            "f7926b4b3ef9429cac2d966adb56b5e8"
          ]
        },
        "id": "t5J5VKSBXv3E",
        "outputId": "c2268a03-ec6b-4383-e5fa-f6e8f5fd8dab"
      },
      "outputs": [
        {
          "data": {
            "application/vnd.jupyter.widget-view+json": {
              "model_id": "ecfd22b53d5b44b9a1ffd8671c5876ca",
              "version_major": 2,
              "version_minor": 0
            },
            "text/plain": [
              "Downloading (…)solve/main/vocab.txt:   0%|          | 0.00/232k [00:00<?, ?B/s]"
            ]
          },
          "metadata": {},
          "output_type": "display_data"
        },
        {
          "data": {
            "application/vnd.jupyter.widget-view+json": {
              "model_id": "a4a3951581c24d4498cda005e299b848",
              "version_major": 2,
              "version_minor": 0
            },
            "text/plain": [
              "Downloading (…)okenizer_config.json:   0%|          | 0.00/28.0 [00:00<?, ?B/s]"
            ]
          },
          "metadata": {},
          "output_type": "display_data"
        },
        {
          "data": {
            "application/vnd.jupyter.widget-view+json": {
              "model_id": "ea741ba2513f4e6e98e3cb6ac40b38e2",
              "version_major": 2,
              "version_minor": 0
            },
            "text/plain": [
              "Downloading (…)lve/main/config.json:   0%|          | 0.00/570 [00:00<?, ?B/s]"
            ]
          },
          "metadata": {},
          "output_type": "display_data"
        },
        {
          "name": "stdout",
          "output_type": "stream",
          "text": [
            "[CLS]\n",
            "[SEP]\n",
            "30522\n"
          ]
        }
      ],
      "source": [
        "#Tokenization\n",
        "tokenizer = BertTokenizer.from_pretrained(\"bert-base-uncased\")\n",
        "tokenizer.bos_token = tokenizer.cls_token\n",
        "tokenizer.eos_token = tokenizer.sep_token\n",
        "\n",
        "\n",
        "batch_size = 8 # this is for full training\n",
        "encoder_max_length = 512\n",
        "decoder_max_length = 128\n",
        "data_collator = DataCollatorWithPadding(tokenizer=tokenizer, return_tensors=\"tf\")\n",
        "\n",
        "print(tokenizer.bos_token)\n",
        "print(tokenizer.eos_token)\n",
        "print(len(tokenizer))\n",
        "#print(tokenizer.attention_mask)"
      ]
    },
    {
      "cell_type": "markdown",
      "source": [
        "**Processing the document, summary, and guidance features separately**"
      ],
      "metadata": {
        "id": "V-6-Tpp8gT0d"
      }
    },
    {
      "cell_type": "code",
      "execution_count": null,
      "metadata": {
        "id": "-wmJNDoqYGNs"
      },
      "outputs": [],
      "source": [
        "def process_data_to_model_inputs(batch):\n",
        "    # tokenize the inputs and labels\n",
        "    inputs = tokenizer(batch[\"document\"],  padding=\"max_length\", truncation=True, max_length=encoder_max_length)\n",
        "    outputs = tokenizer(batch[\"summary\"], padding=\"max_length\", truncation=True, max_length=decoder_max_length)\n",
        "\n",
        "    #Concatenate guidance strings using the [SEP] token\n",
        "    guidance_text = [\"[SEP]\".join(guidance) for guidance in batch[\"guidance\"]]\n",
        "    guidance = tokenizer(guidance_text, padding=\"max_length\", truncation=True, max_length=encoder_max_length)\n",
        "\n",
        "\n",
        "    batch[\"input_ids\"] = inputs.input_ids\n",
        "    batch[\"attention_mask\"] = inputs.attention_mask\n",
        "    batch[\"guidance_inputs\"] = guidance.input_ids\n",
        "    batch[\"guidance_attention_mask\"] = guidance.attention_mask\n",
        "    batch[\"decoder_input_ids\"] = outputs.input_ids\n",
        "    batch[\"decoder_attention_mask\"] = outputs.attention_mask\n",
        "\n",
        "    # Use decoder_inputs as the label, since BERT automatically shifts the labels\n",
        "    batch[\"labels\"] = outputs.input_ids.copy()\n",
        "\n",
        "    # because BERT automatically shifts the labels, the labels correspond exctly to `decoder_input_ids`\n",
        "    # We have to make sure that he PAD token is ignored\n",
        "    batch[\"labels\"] = [[0 if token == tokenizer.pad_token_id else token for token in labels] for labels in batch[\"labels\"]]\n",
        "\n",
        "    return batch\n"
      ]
    },
    {
      "cell_type": "markdown",
      "source": [
        "**Converting data to a huggingface dataset, splitting the data into a training and validation dataset**"
      ],
      "metadata": {
        "id": "br4pLUM3RhZL"
      }
    },
    {
      "cell_type": "code",
      "execution_count": null,
      "metadata": {
        "colab": {
          "base_uri": "https://localhost:8080/",
          "height": 17,
          "referenced_widgets": [
            "b7415e7430d8420099a2b3c771494318",
            "23fff6004f824067a08c6422a018e1c6",
            "fd4e0d15643347a399d6aeb3161766be",
            "d82fec3523ae4a14b289121340984018",
            "9cda024d397341ada5a8ed99132baa10",
            "e12dc078f7bd4c208d51598316e27b4a",
            "1b64ddb94a2d4a76b18a334a536450d2",
            "09a4c3086e994a6cae94a7e956bc8feb",
            "6c8c5e2a08434e6a858496e0f91f0b93",
            "645ff88fe1f442b5b8916b2478fc0909",
            "80fc74bc52554a339078b7ca3eb34a71",
            "82ba6331650c482cbf3b18fbad04d8e8",
            "bea91c5f0e63441d82ff64cb34898593",
            "8ae35851dfb1450792d99103501a6f1c",
            "3f33652f2d7e4c36bb6c01ba6731e391",
            "af59605acb804da7b9d45fb4e1662058",
            "379dcb1534cc497b84066890e03ef532",
            "ca2e3e6469d74c7493a65f55009c16b0",
            "73cc27e3cb6347098b94480b9089bafa",
            "f6f72605a51a4851b7fdaaaca8452c0c",
            "5fb3543f8e5a48ecb63dc3484ab86490",
            "a8e1f01d7d1840ab9047b54daa0dedab"
          ]
        },
        "id": "PFL3GruxZkoC",
        "outputId": "c60b0570-681f-4736-9472-5d24249444d3"
      },
      "outputs": [
        {
          "data": {
            "application/vnd.jupyter.widget-view+json": {
              "model_id": "b7415e7430d8420099a2b3c771494318",
              "version_major": 2,
              "version_minor": 0
            },
            "text/plain": [
              "Map:   0%|          | 0/204045 [00:00<?, ? examples/s]"
            ]
          },
          "metadata": {},
          "output_type": "display_data"
        },
        {
          "data": {
            "application/vnd.jupyter.widget-view+json": {
              "model_id": "82ba6331650c482cbf3b18fbad04d8e8",
              "version_major": 2,
              "version_minor": 0
            },
            "text/plain": [
              "Map:   0%|          | 0/11332 [00:00<?, ? examples/s]"
            ]
          },
          "metadata": {},
          "output_type": "display_data"
        }
      ],
      "source": [
        "dataset_train = dataset_train.map(process_data_to_model_inputs,\n",
        "                                  batched=True,\n",
        "                                  batch_size = batch_size)\n",
        "dataset_val = dataset_val.map(process_data_to_model_inputs,\n",
        "                                  batched=True,\n",
        "                                  batch_size = batch_size)"
      ]
    },
    {
      "cell_type": "code",
      "execution_count": null,
      "metadata": {
        "colab": {
          "base_uri": "https://localhost:8080/"
        },
        "id": "sCUcmivlabl0",
        "outputId": "26ce64c0-2ae5-4d6f-adfa-f78154fad126"
      },
      "outputs": [
        {
          "name": "stdout",
          "output_type": "stream",
          "text": [
            "{'document': 'The full cost of damage in Newton Stewart, one of the areas worst affected, is still being assessed.\\nRepair work is ongoing in Hawick and many roads in Peeblesshire remain badly affected by standing water.\\nTrains on the west coast mainline face disruption due to damage at the Lamington Viaduct.\\nMany businesses and householders were affected by flooding in Newton Stewart after the River Cree overflowed into the town.\\nFirst Minister Nicola Sturgeon visited the area to inspect the damage.\\nThe waters breached a retaining wall, flooding many commercial properties on Victoria Street - the main shopping thoroughfare.\\nJeanette Tate, who owns the Cinnamon Cafe which was badly affected, said she could not fault the multi-agency response once the flood hit.\\nHowever, she said more preventative work could have been carried out to ensure the retaining wall did not fail.\\n\"It is difficult but I do think there is so much publicity for Dumfries and the Nith - and I totally appreciate that - but it is almost like we\\'re neglected or forgotten,\" she said.\\n\"That may not be true but it is perhaps my perspective over the last few days.\\n\"Why were you not ready to help us a bit more when the warning and the alarm alerts had gone out?\"\\nMeanwhile, a flood alert remains in place across the Borders because of the constant rain.\\nPeebles was badly hit by problems, sparking calls to introduce more defences in the area.\\nScottish Borders Council has put a list on its website of the roads worst affected and drivers have been urged not to ignore closure signs.\\nThe Labour Party\\'s deputy Scottish leader Alex Rowley was in Hawick on Monday to see the situation first hand.\\nHe said it was important to get the flood protection plan right but backed calls to speed up the process.\\n\"I was quite taken aback by the amount of damage that has been done,\" he said.\\n\"Obviously it is heart-breaking for people who have been forced out of their homes and the impact on businesses.\"\\nHe said it was important that \"immediate steps\" were taken to protect the areas most vulnerable and a clear timetable put in place for flood prevention plans.\\nHave you been affected by flooding in Dumfries and Galloway or the Borders? Tell us about your experience of the situation and how it was handled. Email us on selkirk.news@bbc.co.uk or dumfries@bbc.co.uk.', 'summary': 'Clean-up operations are continuing across the Scottish Borders and Dumfries and Galloway after flooding caused by Storm Frank.', 'guidance': ['flood', 'damage', 'Hawick', 'roads', 'Borders', 'place', 'calls', 'Stewart', 'area', 'Newton', 'Rowley', 'Victoria'], 'input_ids': [101, 1996, 2440, 3465, 1997, 4053, 1999, 8446, 5954, 1010, 2028, 1997, 1996, 2752, 5409, 5360, 1010, 2003, 2145, 2108, 14155, 1012, 7192, 2147, 2003, 7552, 1999, 5292, 7184, 1998, 2116, 4925, 1999, 21392, 13510, 7430, 3961, 6649, 5360, 2011, 3061, 2300, 1012, 4499, 2006, 1996, 2225, 3023, 20575, 2227, 20461, 2349, 2000, 4053, 2012, 1996, 16983, 7853, 20596, 1012, 2116, 5661, 1998, 7536, 2015, 2020, 5360, 2011, 9451, 1999, 8446, 5954, 2044, 1996, 2314, 27831, 2058, 12314, 2098, 2046, 1996, 2237, 1012, 2034, 2704, 17388, 24646, 28242, 4716, 1996, 2181, 2000, 22459, 1996, 4053, 1012, 1996, 5380, 25769, 1037, 12823, 2813, 1010, 9451, 2116, 3293, 5144, 2006, 3848, 2395, 1011, 1996, 2364, 6023, 16030, 17883, 1012, 3744, 7585, 9902, 1010, 2040, 8617, 1996, 21229, 7668, 2029, 2001, 6649, 5360, 1010, 2056, 2016, 2071, 2025, 6346, 1996, 4800, 1011, 4034, 3433, 2320, 1996, 7186, 2718, 1012, 2174, 1010, 2016, 2056, 2062, 4652, 8082, 2147, 2071, 2031, 2042, 3344, 2041, 2000, 5676, 1996, 12823, 2813, 2106, 2025, 8246, 1012, 1000, 2009, 2003, 3697, 2021, 1045, 2079, 2228, 2045, 2003, 2061, 2172, 11845, 2005, 4241, 2213, 19699, 3111, 1998, 1996, 9152, 2705, 1011, 1998, 1045, 6135, 9120, 2008, 1011, 2021, 2009, 2003, 2471, 2066, 2057, 1005, 2128, 15486, 2030, 6404, 1010, 1000, 2016, 2056, 1012, 1000, 2008, 2089, 2025, 2022, 2995, 2021, 2009, 2003, 3383, 2026, 7339, 2058, 1996, 2197, 2261, 2420, 1012, 1000, 2339, 2020, 2017, 2025, 3201, 2000, 2393, 2149, 1037, 2978, 2062, 2043, 1996, 5432, 1998, 1996, 8598, 9499, 2015, 2018, 2908, 2041, 1029, 1000, 5564, 1010, 1037, 7186, 9499, 3464, 1999, 2173, 2408, 1996, 6645, 2138, 1997, 1996, 5377, 4542, 1012, 21392, 13510, 2001, 6649, 2718, 2011, 3471, 1010, 12125, 2075, 4455, 2000, 8970, 2062, 16828, 1999, 1996, 2181, 1012, 4104, 6645, 2473, 2038, 2404, 1037, 2862, 2006, 2049, 4037, 1997, 1996, 4925, 5409, 5360, 1998, 6853, 2031, 2042, 9720, 2025, 2000, 8568, 8503, 5751, 1012, 1996, 4428, 2283, 1005, 1055, 4112, 4104, 3003, 4074, 5216, 3051, 2001, 1999, 5292, 7184, 2006, 6928, 2000, 2156, 1996, 3663, 2034, 2192, 1012, 2002, 2056, 2009, 2001, 2590, 2000, 2131, 1996, 7186, 3860, 2933, 2157, 2021, 6153, 4455, 2000, 3177, 2039, 1996, 2832, 1012, 1000, 1045, 2001, 3243, 2579, 26575, 2011, 1996, 3815, 1997, 4053, 2008, 2038, 2042, 2589, 1010, 1000, 2002, 2056, 1012, 1000, 5525, 2009, 2003, 2540, 1011, 4911, 2005, 2111, 2040, 2031, 2042, 3140, 2041, 1997, 2037, 5014, 1998, 1996, 4254, 2006, 5661, 1012, 1000, 2002, 2056, 2009, 2001, 2590, 2008, 1000, 6234, 4084, 1000, 2020, 2579, 2000, 4047, 1996, 2752, 2087, 8211, 1998, 1037, 3154, 23839, 2404, 1999, 2173, 2005, 7186, 9740, 3488, 1012, 2031, 2017, 2042, 5360, 2011, 9451, 1999, 4241, 2213, 19699, 3111, 1998, 22372, 2030, 1996, 6645, 1029, 2425, 2149, 2055, 2115, 3325, 1997, 1996, 3663, 1998, 2129, 2009, 2001, 8971, 1012, 10373, 2149, 2006, 7367, 23913, 1012, 2739, 1030, 4035, 1012, 2522, 1012, 2866, 2030, 4241, 2213, 19699, 3111, 1030, 4035, 1012, 2522, 1012, 2866, 1012, 102, 0, 0, 0, 0, 0, 0, 0, 0, 0, 0, 0, 0, 0, 0, 0, 0, 0, 0], 'attention_mask': [1, 1, 1, 1, 1, 1, 1, 1, 1, 1, 1, 1, 1, 1, 1, 1, 1, 1, 1, 1, 1, 1, 1, 1, 1, 1, 1, 1, 1, 1, 1, 1, 1, 1, 1, 1, 1, 1, 1, 1, 1, 1, 1, 1, 1, 1, 1, 1, 1, 1, 1, 1, 1, 1, 1, 1, 1, 1, 1, 1, 1, 1, 1, 1, 1, 1, 1, 1, 1, 1, 1, 1, 1, 1, 1, 1, 1, 1, 1, 1, 1, 1, 1, 1, 1, 1, 1, 1, 1, 1, 1, 1, 1, 1, 1, 1, 1, 1, 1, 1, 1, 1, 1, 1, 1, 1, 1, 1, 1, 1, 1, 1, 1, 1, 1, 1, 1, 1, 1, 1, 1, 1, 1, 1, 1, 1, 1, 1, 1, 1, 1, 1, 1, 1, 1, 1, 1, 1, 1, 1, 1, 1, 1, 1, 1, 1, 1, 1, 1, 1, 1, 1, 1, 1, 1, 1, 1, 1, 1, 1, 1, 1, 1, 1, 1, 1, 1, 1, 1, 1, 1, 1, 1, 1, 1, 1, 1, 1, 1, 1, 1, 1, 1, 1, 1, 1, 1, 1, 1, 1, 1, 1, 1, 1, 1, 1, 1, 1, 1, 1, 1, 1, 1, 1, 1, 1, 1, 1, 1, 1, 1, 1, 1, 1, 1, 1, 1, 1, 1, 1, 1, 1, 1, 1, 1, 1, 1, 1, 1, 1, 1, 1, 1, 1, 1, 1, 1, 1, 1, 1, 1, 1, 1, 1, 1, 1, 1, 1, 1, 1, 1, 1, 1, 1, 1, 1, 1, 1, 1, 1, 1, 1, 1, 1, 1, 1, 1, 1, 1, 1, 1, 1, 1, 1, 1, 1, 1, 1, 1, 1, 1, 1, 1, 1, 1, 1, 1, 1, 1, 1, 1, 1, 1, 1, 1, 1, 1, 1, 1, 1, 1, 1, 1, 1, 1, 1, 1, 1, 1, 1, 1, 1, 1, 1, 1, 1, 1, 1, 1, 1, 1, 1, 1, 1, 1, 1, 1, 1, 1, 1, 1, 1, 1, 1, 1, 1, 1, 1, 1, 1, 1, 1, 1, 1, 1, 1, 1, 1, 1, 1, 1, 1, 1, 1, 1, 1, 1, 1, 1, 1, 1, 1, 1, 1, 1, 1, 1, 1, 1, 1, 1, 1, 1, 1, 1, 1, 1, 1, 1, 1, 1, 1, 1, 1, 1, 1, 1, 1, 1, 1, 1, 1, 1, 1, 1, 1, 1, 1, 1, 1, 1, 1, 1, 1, 1, 1, 1, 1, 1, 1, 1, 1, 1, 1, 1, 1, 1, 1, 1, 1, 1, 1, 1, 1, 1, 1, 1, 1, 1, 1, 1, 1, 1, 1, 1, 1, 1, 1, 1, 1, 1, 1, 1, 1, 1, 1, 1, 1, 1, 1, 1, 1, 1, 1, 1, 1, 1, 1, 1, 1, 1, 1, 1, 1, 1, 1, 1, 1, 1, 1, 1, 1, 1, 1, 1, 1, 1, 1, 1, 1, 1, 1, 1, 1, 1, 1, 1, 1, 1, 1, 1, 1, 1, 1, 0, 0, 0, 0, 0, 0, 0, 0, 0, 0, 0, 0, 0, 0, 0, 0, 0, 0], 'guidance_inputs': [101, 7186, 102, 4053, 102, 5292, 7184, 102, 4925, 102, 6645, 102, 2173, 102, 4455, 102, 5954, 102, 2181, 102, 8446, 102, 5216, 3051, 102, 3848, 102, 0, 0, 0, 0, 0, 0, 0, 0, 0, 0, 0, 0, 0, 0, 0, 0, 0, 0, 0, 0, 0, 0, 0, 0, 0, 0, 0, 0, 0, 0, 0, 0, 0, 0, 0, 0, 0, 0, 0, 0, 0, 0, 0, 0, 0, 0, 0, 0, 0, 0, 0, 0, 0, 0, 0, 0, 0, 0, 0, 0, 0, 0, 0, 0, 0, 0, 0, 0, 0, 0, 0, 0, 0, 0, 0, 0, 0, 0, 0, 0, 0, 0, 0, 0, 0, 0, 0, 0, 0, 0, 0, 0, 0, 0, 0, 0, 0, 0, 0, 0, 0, 0, 0, 0, 0, 0, 0, 0, 0, 0, 0, 0, 0, 0, 0, 0, 0, 0, 0, 0, 0, 0, 0, 0, 0, 0, 0, 0, 0, 0, 0, 0, 0, 0, 0, 0, 0, 0, 0, 0, 0, 0, 0, 0, 0, 0, 0, 0, 0, 0, 0, 0, 0, 0, 0, 0, 0, 0, 0, 0, 0, 0, 0, 0, 0, 0, 0, 0, 0, 0, 0, 0, 0, 0, 0, 0, 0, 0, 0, 0, 0, 0, 0, 0, 0, 0, 0, 0, 0, 0, 0, 0, 0, 0, 0, 0, 0, 0, 0, 0, 0, 0, 0, 0, 0, 0, 0, 0, 0, 0, 0, 0, 0, 0, 0, 0, 0, 0, 0, 0, 0, 0, 0, 0, 0, 0, 0, 0, 0, 0, 0, 0, 0, 0, 0, 0, 0, 0, 0, 0, 0, 0, 0, 0, 0, 0, 0, 0, 0, 0, 0, 0, 0, 0, 0, 0, 0, 0, 0, 0, 0, 0, 0, 0, 0, 0, 0, 0, 0, 0, 0, 0, 0, 0, 0, 0, 0, 0, 0, 0, 0, 0, 0, 0, 0, 0, 0, 0, 0, 0, 0, 0, 0, 0, 0, 0, 0, 0, 0, 0, 0, 0, 0, 0, 0, 0, 0, 0, 0, 0, 0, 0, 0, 0, 0, 0, 0, 0, 0, 0, 0, 0, 0, 0, 0, 0, 0, 0, 0, 0, 0, 0, 0, 0, 0, 0, 0, 0, 0, 0, 0, 0, 0, 0, 0, 0, 0, 0, 0, 0, 0, 0, 0, 0, 0, 0, 0, 0, 0, 0, 0, 0, 0, 0, 0, 0, 0, 0, 0, 0, 0, 0, 0, 0, 0, 0, 0, 0, 0, 0, 0, 0, 0, 0, 0, 0, 0, 0, 0, 0, 0, 0, 0, 0, 0, 0, 0, 0, 0, 0, 0, 0, 0, 0, 0, 0, 0, 0, 0, 0, 0, 0, 0, 0, 0, 0, 0, 0, 0, 0, 0, 0, 0, 0, 0, 0, 0, 0, 0, 0, 0, 0, 0, 0, 0, 0, 0, 0, 0, 0, 0, 0, 0, 0, 0, 0, 0, 0, 0, 0, 0, 0, 0, 0, 0, 0, 0, 0, 0, 0, 0, 0, 0, 0, 0, 0, 0, 0, 0, 0, 0, 0, 0, 0, 0, 0, 0, 0, 0, 0, 0, 0, 0, 0, 0], 'guidance_attention_mask': [1, 1, 1, 1, 1, 1, 1, 1, 1, 1, 1, 1, 1, 1, 1, 1, 1, 1, 1, 1, 1, 1, 1, 1, 1, 1, 1, 0, 0, 0, 0, 0, 0, 0, 0, 0, 0, 0, 0, 0, 0, 0, 0, 0, 0, 0, 0, 0, 0, 0, 0, 0, 0, 0, 0, 0, 0, 0, 0, 0, 0, 0, 0, 0, 0, 0, 0, 0, 0, 0, 0, 0, 0, 0, 0, 0, 0, 0, 0, 0, 0, 0, 0, 0, 0, 0, 0, 0, 0, 0, 0, 0, 0, 0, 0, 0, 0, 0, 0, 0, 0, 0, 0, 0, 0, 0, 0, 0, 0, 0, 0, 0, 0, 0, 0, 0, 0, 0, 0, 0, 0, 0, 0, 0, 0, 0, 0, 0, 0, 0, 0, 0, 0, 0, 0, 0, 0, 0, 0, 0, 0, 0, 0, 0, 0, 0, 0, 0, 0, 0, 0, 0, 0, 0, 0, 0, 0, 0, 0, 0, 0, 0, 0, 0, 0, 0, 0, 0, 0, 0, 0, 0, 0, 0, 0, 0, 0, 0, 0, 0, 0, 0, 0, 0, 0, 0, 0, 0, 0, 0, 0, 0, 0, 0, 0, 0, 0, 0, 0, 0, 0, 0, 0, 0, 0, 0, 0, 0, 0, 0, 0, 0, 0, 0, 0, 0, 0, 0, 0, 0, 0, 0, 0, 0, 0, 0, 0, 0, 0, 0, 0, 0, 0, 0, 0, 0, 0, 0, 0, 0, 0, 0, 0, 0, 0, 0, 0, 0, 0, 0, 0, 0, 0, 0, 0, 0, 0, 0, 0, 0, 0, 0, 0, 0, 0, 0, 0, 0, 0, 0, 0, 0, 0, 0, 0, 0, 0, 0, 0, 0, 0, 0, 0, 0, 0, 0, 0, 0, 0, 0, 0, 0, 0, 0, 0, 0, 0, 0, 0, 0, 0, 0, 0, 0, 0, 0, 0, 0, 0, 0, 0, 0, 0, 0, 0, 0, 0, 0, 0, 0, 0, 0, 0, 0, 0, 0, 0, 0, 0, 0, 0, 0, 0, 0, 0, 0, 0, 0, 0, 0, 0, 0, 0, 0, 0, 0, 0, 0, 0, 0, 0, 0, 0, 0, 0, 0, 0, 0, 0, 0, 0, 0, 0, 0, 0, 0, 0, 0, 0, 0, 0, 0, 0, 0, 0, 0, 0, 0, 0, 0, 0, 0, 0, 0, 0, 0, 0, 0, 0, 0, 0, 0, 0, 0, 0, 0, 0, 0, 0, 0, 0, 0, 0, 0, 0, 0, 0, 0, 0, 0, 0, 0, 0, 0, 0, 0, 0, 0, 0, 0, 0, 0, 0, 0, 0, 0, 0, 0, 0, 0, 0, 0, 0, 0, 0, 0, 0, 0, 0, 0, 0, 0, 0, 0, 0, 0, 0, 0, 0, 0, 0, 0, 0, 0, 0, 0, 0, 0, 0, 0, 0, 0, 0, 0, 0, 0, 0, 0, 0, 0, 0, 0, 0, 0, 0, 0, 0, 0, 0, 0, 0, 0, 0, 0, 0, 0, 0, 0, 0, 0, 0, 0, 0, 0, 0, 0, 0, 0, 0, 0, 0, 0, 0, 0, 0, 0, 0, 0, 0, 0, 0, 0], 'decoder_input_ids': [101, 4550, 1011, 2039, 3136, 2024, 5719, 2408, 1996, 4104, 6645, 1998, 4241, 2213, 19699, 3111, 1998, 22372, 2044, 9451, 3303, 2011, 4040, 3581, 1012, 102, 0, 0, 0, 0, 0, 0, 0, 0, 0, 0, 0, 0, 0, 0, 0, 0, 0, 0, 0, 0, 0, 0, 0, 0, 0, 0, 0, 0, 0, 0, 0, 0, 0, 0, 0, 0, 0, 0, 0, 0, 0, 0, 0, 0, 0, 0, 0, 0, 0, 0, 0, 0, 0, 0, 0, 0, 0, 0, 0, 0, 0, 0, 0, 0, 0, 0, 0, 0, 0, 0, 0, 0, 0, 0, 0, 0, 0, 0, 0, 0, 0, 0, 0, 0, 0, 0, 0, 0, 0, 0, 0, 0, 0, 0, 0, 0, 0, 0, 0, 0, 0, 0], 'decoder_attention_mask': [1, 1, 1, 1, 1, 1, 1, 1, 1, 1, 1, 1, 1, 1, 1, 1, 1, 1, 1, 1, 1, 1, 1, 1, 1, 1, 0, 0, 0, 0, 0, 0, 0, 0, 0, 0, 0, 0, 0, 0, 0, 0, 0, 0, 0, 0, 0, 0, 0, 0, 0, 0, 0, 0, 0, 0, 0, 0, 0, 0, 0, 0, 0, 0, 0, 0, 0, 0, 0, 0, 0, 0, 0, 0, 0, 0, 0, 0, 0, 0, 0, 0, 0, 0, 0, 0, 0, 0, 0, 0, 0, 0, 0, 0, 0, 0, 0, 0, 0, 0, 0, 0, 0, 0, 0, 0, 0, 0, 0, 0, 0, 0, 0, 0, 0, 0, 0, 0, 0, 0, 0, 0, 0, 0, 0, 0, 0, 0], 'labels': [101, 4550, 1011, 2039, 3136, 2024, 5719, 2408, 1996, 4104, 6645, 1998, 4241, 2213, 19699, 3111, 1998, 22372, 2044, 9451, 3303, 2011, 4040, 3581, 1012, 102, 0, 0, 0, 0, 0, 0, 0, 0, 0, 0, 0, 0, 0, 0, 0, 0, 0, 0, 0, 0, 0, 0, 0, 0, 0, 0, 0, 0, 0, 0, 0, 0, 0, 0, 0, 0, 0, 0, 0, 0, 0, 0, 0, 0, 0, 0, 0, 0, 0, 0, 0, 0, 0, 0, 0, 0, 0, 0, 0, 0, 0, 0, 0, 0, 0, 0, 0, 0, 0, 0, 0, 0, 0, 0, 0, 0, 0, 0, 0, 0, 0, 0, 0, 0, 0, 0, 0, 0, 0, 0, 0, 0, 0, 0, 0, 0, 0, 0, 0, 0, 0, 0]}\n"
          ]
        }
      ],
      "source": [
        "print(dataset_train[0])"
      ]
    },
    {
      "cell_type": "code",
      "execution_count": null,
      "metadata": {
        "colab": {
          "base_uri": "https://localhost:8080/"
        },
        "id": "R5pPFksyb3fR",
        "outputId": "8585bc38-78c6-485d-c607-741271985457"
      },
      "outputs": [
        {
          "name": "stderr",
          "output_type": "stream",
          "text": [
            "/usr/local/lib/python3.10/dist-packages/datasets/arrow_dataset.py:388: FutureWarning: The output of `to_tf_dataset` will change when a passing single element list for `labels` or `columns` in the next datasets version. To return a tuple structure rather than dict, pass a single string.\n",
            "Old behaviour: columns=['a'], labels=['labels'] -> (tf.Tensor, tf.Tensor)  \n",
            "             : columns='a', labels='labels' -> (tf.Tensor, tf.Tensor)  \n",
            "New behaviour: columns=['a'],labels=['labels'] -> ({'a': tf.Tensor}, {'labels': tf.Tensor})  \n",
            "             : columns='a', labels='labels' -> (tf.Tensor, tf.Tensor) \n",
            "  warnings.warn(\n"
          ]
        }
      ],
      "source": [
        "# Converting the recently tokenized data into a tensorflow dataset\n",
        "dataset_train = dataset_train.to_tf_dataset(\n",
        "    columns=[\"input_ids\",\"attention_mask\",\"guidance_inputs\",\"guidance_attention_mask\",\"decoder_input_ids\", \"decoder_attention_mask\", \"labels\"],\n",
        "    label_cols=[\"labels\"],\n",
        "    batch_size = 8,\n",
        "    collate_fn=data_collator,\n",
        "    shuffle=True\n",
        ")\n",
        "\n",
        "dataset_val = dataset_val.to_tf_dataset(\n",
        "    columns=[\"input_ids\",\"attention_mask\",\"guidance_inputs\",\"guidance_attention_mask\",\"decoder_input_ids\", \"decoder_attention_mask\", \"labels\"],\n",
        "    label_cols=[\"labels\"],\n",
        "    batch_size = 8,\n",
        "    collate_fn=data_collator,\n",
        "    shuffle=True\n",
        ")"
      ]
    },
    {
      "cell_type": "code",
      "execution_count": null,
      "metadata": {
        "colab": {
          "base_uri": "https://localhost:8080/"
        },
        "id": "YorX_bQLZVQ8",
        "outputId": "2f81b0c2-451a-4ef4-9957-14d1ad1e4bbf"
      },
      "outputs": [
        {
          "name": "stdout",
          "output_type": "stream",
          "text": [
            "1417\n",
            "25506\n"
          ]
        }
      ],
      "source": [
        "print(len(dataset_val))\n",
        "print(len(dataset_train))\n",
        "# model is over fitting but the batche sizes are correct and look different\n",
        "# 11332 length of data set val 355 * (batch_size) = 11360...one batch is less than 32\n",
        "# 204045 length of data set train 6377 * (batch_size) = 204064... one batch is less than 32"
      ]
    },
    {
      "cell_type": "markdown",
      "source": [
        "# **Model Development**"
      ],
      "metadata": {
        "id": "q_8m0vlDR5QE"
      }
    },
    {
      "cell_type": "markdown",
      "source": [
        "This model is a transformer developed from scratch in TensorFlow. My inspiration is from the GSum: A General Framework for Guided Neural Abstractive Summarizations written by Dou et al. in 2021. The gitHub page for the model can be found here: https://github.com/neulab/guided_summarization. After a month of attempting to implement the model from the repository, I decided it would be more beneficial for my learning to build the model on my own. I opted to build the model from scratch because I wanted to learn each major component of the transformer's architecture and how it all fit together."
      ],
      "metadata": {
        "id": "wAUcoWMESSV6"
      }
    },
    {
      "cell_type": "markdown",
      "source": [
        "**Positional Encoding and Positional Embedding layers**"
      ],
      "metadata": {
        "id": "7T2ltpJ3oSnA"
      }
    },
    {
      "cell_type": "code",
      "execution_count": null,
      "metadata": {
        "id": "OVsAzMACaJBx"
      },
      "outputs": [],
      "source": [
        "def positional_encoding(length, depth):\n",
        "    depth = depth/2\n",
        "\n",
        "    positions = np.arange(length)[:, np.newaxis]  # (seq, 1)\n",
        "    depths = np.arange(depth)[np.newaxis, :]/depth # (1, depth)\n",
        "\n",
        "    angle_rates = 1 / (10000**depths) #(1, depth)\n",
        "    angle_rads = positions * angle_rates #(pos, depth)\n",
        "\n",
        "    pos_encoding = np.concatenate(\n",
        "        [np.sin(angle_rads), np.cos(angle_rads)],\n",
        "        axis=-1)\n",
        "\n",
        "    return tf.cast(pos_encoding, dtype=tf.float32)\n",
        "\n",
        "class PositionalEmbedding(tf.keras.layers.Layer):\n",
        "    def __init__(self, vocab_size, d_model):\n",
        "        super().__init__()\n",
        "        self.d_model = d_model\n",
        "        self.embedding = tf.keras.layers.Embedding(vocab_size, d_model, mask_zero=True)\n",
        "        self.pos_encoding = positional_encoding(length=2048, depth=d_model)\n",
        "\n",
        "    def compute_mask(self, *args, **kwargs):\n",
        "        return self.embedding.compute_mask(*args, **kwargs)\n",
        "\n",
        "    def call(self, x):\n",
        "        length = tf.shape(x)[1]\n",
        "        x = self.embedding(x)\n",
        "        # This factor sets the relative scale of the emebdding and positional_encoding\n",
        "        x *= tf.math.sqrt(tf.cast(self.d_model, tf.float32))\n",
        "        x = x + self.pos_encoding[tf.newaxis, :length, :]\n",
        "        return x"
      ]
    },
    {
      "cell_type": "markdown",
      "source": [
        "**Attention mechanisms**\n",
        "\n",
        "Attention is arguably the most important aspect of the transformer. I would say it is the most fascinating part of the architecture. Thank you tensorflow for providing a pre-built multiheadattion mechanism to use out of the box. Although I am interested in building attention mechanisms from scratch, but for the purpose of this model it was slightly unnessessary."
      ],
      "metadata": {
        "id": "P4dzrHdPoa74"
      }
    },
    {
      "cell_type": "code",
      "execution_count": null,
      "metadata": {
        "id": "4M8pXNn9aL_L"
      },
      "outputs": [],
      "source": [
        "class BaseAttention(tf.keras.layers.Layer):\n",
        "    def __init__(self, **kwargs):\n",
        "        super().__init__()\n",
        "        self.mha = tf.keras.layers.MultiHeadAttention(**kwargs)\n",
        "        self.layernorm = tf.keras.layers.LayerNormalization()\n",
        "        self.add = tf.keras.layers.Add()\n",
        "\n",
        "'''\n",
        "The cross attention layer:\n",
        "\n",
        "---> At the literal center for the Transformer is the cross-attention layer. This layer connects the\n",
        "     encoder and decoder. This layer is the most straight-forward use of attention in the model\n",
        "\n",
        "---> To implement this you pass the target sequence x as the query and the context sequence as the\n",
        "     key/value when calling the mha layer\n",
        "'''\n",
        "\n",
        "class CrossAttention(BaseAttention):\n",
        "    def call(self, x, context):\n",
        "        attn_output, attn_scores = self.mha(\n",
        "            query=x,\n",
        "            key=context,\n",
        "            value=context,\n",
        "            return_attention_scores=True)\n",
        "\n",
        "        # Cache the attention scores for plotting later\n",
        "        self.last_attn_scores = attn_scores\n",
        "\n",
        "        x = self.add([x, attn_output])\n",
        "        x = self.layernorm(x)\n",
        "\n",
        "        return x\n",
        "\n",
        "'''\n",
        "The global self attention layer:\n",
        "\n",
        "---> The global self attention layer on the other hand lets every sequence element directly access every\n",
        "     other sequence element, with only a few operations, and all the outputs can be computed in parallel\n",
        "---> To implement thi layer your just need to pass the target sequence, x, as both the query, and value\n",
        "     arguments to the mha layer\n",
        "'''\n",
        "\n",
        "class GlobalSelfAttention(BaseAttention):\n",
        "    def call(self, x):\n",
        "        attn_output = self.mha(\n",
        "            query=x,\n",
        "            value=x,\n",
        "            key=x)\n",
        "        x = self.add([x, attn_output])\n",
        "        x = self.layernorm(x)\n",
        "        return x\n",
        "\n",
        "'''\n",
        "The causal self attention layer:\n",
        "\n",
        "---> To build a causal self attention layer, you need to use an appropriate mask when computing scores\n",
        "     and summing the attention value S\n",
        "---> This is taken care of automatically if you pass `use_causal_mask = True` to the MultiHeadAttention layer when it is called\n",
        "---> Ther causal mask ensure that each location only has access to the locations that come before it\n",
        "'''\n",
        "\n",
        "class CausalSelfAttention(BaseAttention):\n",
        "    def call(self, x):\n",
        "        attn_output = self.mha(\n",
        "            query=x,\n",
        "            value=x,\n",
        "            key=x,\n",
        "            use_causal_mask=True)\n",
        "        x = self.add([x, attn_output])\n",
        "        x = self.layernorm(x)\n",
        "        return x\n",
        "\n",
        "\n",
        "\n",
        "class FeedForward(tf.keras.layers.Layer):\n",
        "    def __init__(self, d_model, dff, dropout_rate=0.1):\n",
        "        super().__init__()\n",
        "        self.seq = tf.keras.Sequential([\n",
        "            tf.keras.layers.Dense(dff, activation='relu'),\n",
        "            tf.keras.layers.Dense(d_model),\n",
        "            tf.keras.layers.Dropout(dropout_rate)\n",
        "        ])\n",
        "\n",
        "        self.add = tf.keras.layers.Add()\n",
        "        self.layer_norm = tf.keras.layers.LayerNormalization()\n",
        "\n",
        "    def call(self, x):\n",
        "        x = self.add([x, self.seq(x)])\n",
        "        x = self.layer_norm(x)\n",
        "        return x"
      ]
    },
    {
      "cell_type": "markdown",
      "source": [
        "**Encoder layer & Encoder**"
      ],
      "metadata": {
        "id": "PJEo3WV3pR_Z"
      }
    },
    {
      "cell_type": "code",
      "execution_count": null,
      "metadata": {
        "id": "7j8IDd5gaSGo"
      },
      "outputs": [],
      "source": [
        "class EncoderLayer(tf.keras.layers.Layer):\n",
        "    def __init__(self, *, d_model, num_heads, dff, dropout_rate=0.1):\n",
        "        super().__init__()\n",
        "\n",
        "        self.self_attention = GlobalSelfAttention(\n",
        "            num_heads=num_heads,\n",
        "            key_dim=d_model,\n",
        "            dropout=dropout_rate)\n",
        "\n",
        "        self.ffn = FeedForward(d_model, dff)\n",
        "\n",
        "    def call(self, x):\n",
        "        x = self.self_attention(x)\n",
        "        x = self.ffn(x)\n",
        "\n",
        "        return x\n",
        "\n",
        "class Encoder(tf.keras.layers.Layer):\n",
        "    def __init__(self, *, num_layers, d_model, num_heads, dff, vocab_size, dropout_rate=0.1):\n",
        "        super().__init__()\n",
        "        self.d_model = d_model\n",
        "        self.num_layers = num_layers\n",
        "\n",
        "        self.pos_embedding = PositionalEmbedding(vocab_size=vocab_size, d_model=d_model)\n",
        "        self.enc_layers = [\n",
        "            EncoderLayer(d_model=d_model,\n",
        "                         num_heads=num_heads,\n",
        "                         dff=dff,\n",
        "                         dropout_rate=dropout_rate)\n",
        "                         for _ in range(num_layers)]\n",
        "        self.dropout = tf.keras.layers.Dropout(dropout_rate)\n",
        "\n",
        "    def call(self, x):\n",
        "        # `x` is token-IDs shape: (batch, seq_len)\n",
        "        x = self.pos_embedding(x) # Shape `(batch_size, seq_len, d_model)`\n",
        "\n",
        "        # Add dropout\n",
        "        x = self.dropout(x)\n",
        "\n",
        "        for i in range(self.num_layers):\n",
        "            x = self.enc_layers[i](x)\n",
        "\n",
        "        return x #Shape `(batch_size, seq_len, d_model)`"
      ]
    },
    {
      "cell_type": "markdown",
      "source": [
        "**Decoder Layer & Decoder**"
      ],
      "metadata": {
        "id": "FR44mgn-peEy"
      }
    },
    {
      "cell_type": "code",
      "execution_count": null,
      "metadata": {
        "id": "2y019JJHaWsR"
      },
      "outputs": [],
      "source": [
        "class DecoderLayer(tf.keras.layers.Layer):\n",
        "    def __init__(self, *, d_model, num_heads, dff, dropout_rate=0.1):\n",
        "        super(DecoderLayer, self).__init__()\n",
        "\n",
        "        self.causal_self_attention = CausalSelfAttention(\n",
        "            num_heads=num_heads,\n",
        "            key_dim=d_model,\n",
        "            dropout=dropout_rate)\n",
        "\n",
        "        self.cross_attention0 = CrossAttention(\n",
        "            num_heads=num_heads,\n",
        "            key_dim=d_model,\n",
        "            dropout=dropout_rate)\n",
        "\n",
        "        self.cross_attention1 = CrossAttention(\n",
        "            num_heads=num_heads,\n",
        "            key_dim=d_model,\n",
        "            dropout=dropout_rate)\n",
        "\n",
        "        self.ffn = FeedForward(d_model, dff)\n",
        "\n",
        "    def call(self, x, context0, context1):\n",
        "        # gotta build two cross attention mechanisms, one for guidance and one for source doc\n",
        "        x = self.causal_self_attention(x=x)\n",
        "\n",
        "        guidance = self.cross_attention0(x=x, context=context0)\n",
        "\n",
        "        source = self.cross_attention1(x=guidance, context=context1)\n",
        "\n",
        "\n",
        "        # Cache the last attention scores for plotting later\n",
        "        #self.last_attn_scores = self.cross_attention.last_attn_scores\n",
        "\n",
        "        final = self.ffn(source)  # Shape `(batch_size, seq_len, d_model)`.\n",
        "        return final # instead of x\n",
        "\n",
        "\n",
        "class Decoder(tf.keras.layers.Layer):\n",
        "    def __init__(self, *, num_layers, d_model, num_heads, dff, vocab_size, dropout_rate=0.1):\n",
        "        super(Decoder, self).__init__()\n",
        "\n",
        "        self.d_model = d_model\n",
        "        self.num_layers = num_layers\n",
        "\n",
        "        self.pos_embedding = PositionalEmbedding(vocab_size=vocab_size, d_model=d_model)\n",
        "        self.dropout = tf.keras.layers.Dropout(dropout_rate)\n",
        "        self.dec_layers = [\n",
        "            DecoderLayer(d_model=d_model, num_heads=num_heads, dff=dff, dropout_rate=dropout_rate)\n",
        "                        for _ in range(num_layers)]\n",
        "        self.last_attn_scores = None\n",
        "\n",
        "    def call(self, x, context0, context1):\n",
        "        # `x` is token-IDs shape (batch, target_seq_len)\n",
        "        x = self.pos_embedding(x) # (batch_size, target_seq_len, d_model)\n",
        "\n",
        "        x = self.dropout(x)\n",
        "\n",
        "        for i in range(self.num_layers):\n",
        "            x = self.dec_layers[i](x, context0, context1)\n",
        "\n",
        "        #self.last_attn_scores = self.dec_layers[-1].last_attn_scores\n",
        "\n",
        "        # The shape of x is (batch_size, target_seq_len, d_model)\n",
        "        return x"
      ]
    },
    {
      "cell_type": "markdown",
      "source": [
        "**Transformer**\n",
        "\n",
        "I used two encoders, one to encode the guidance signal and the other to encode the source document, I pass both to the decoder with the goal of passing the cross attention mechanism as much information about the document as possible. The goal is to guide the output of the model through feeding it guidance tokens. This is a variant on the original transformer from the GSUM paper, which is actually a variant of the transformer from Attention is All you Need Vashwani et. al (2017)."
      ],
      "metadata": {
        "id": "prTnIt8lpmTK"
      }
    },
    {
      "cell_type": "code",
      "execution_count": null,
      "metadata": {
        "id": "-1WsdgTGagrr"
      },
      "outputs": [],
      "source": [
        "class Transformer(tf.keras.Model):\n",
        "    def __init__(self, *, num_layers, d_model, num_heads, dff, input_vocab_size, target_vocab_size, dropout_rate=0.1):\n",
        "        super().__init__()\n",
        "        self.encoder0 = Encoder(num_layers=num_layers, d_model=d_model,\n",
        "                               num_heads=num_heads, dff=dff,\n",
        "                               vocab_size=input_vocab_size,\n",
        "                               dropout_rate=dropout_rate)\n",
        "        self.encoder1 = Encoder(num_layers=num_layers, d_model=d_model,\n",
        "                               num_heads=num_heads, dff=dff,\n",
        "                               vocab_size=input_vocab_size,\n",
        "                               dropout_rate=dropout_rate)\n",
        "\n",
        "        self.decoder = Decoder(num_layers=num_layers, d_model=d_model,\n",
        "                               num_heads=num_heads, dff=dff,\n",
        "                               vocab_size=target_vocab_size,\n",
        "                               dropout_rate=dropout_rate)\n",
        "\n",
        "        self.final_layer = tf.keras.layers.Dense(target_vocab_size)\n",
        "\n",
        "    def call(self, inputs):\n",
        "\n",
        "        #if isinstance(inputs, dict):\n",
        "        document = inputs['input_ids']\n",
        "        guidance = inputs['guidance_inputs']\n",
        "        output = inputs['decoder_input_ids']\n",
        "        '''\n",
        "        else:\n",
        "            document, guidance, output = inputs\n",
        "        '''\n",
        "\n",
        "\n",
        "        # Process the document and guidance features in parallel through the two encoders\n",
        "        context0 = self.encoder0(document)\n",
        "        context1 = self.encoder1(guidance)\n",
        "\n",
        "        x = self.decoder(output, context0, context1)  # (batch_size, target_len, d_model)\n",
        "\n",
        "        # Final linear layer output.\n",
        "        logits = self.final_layer(x)  # (batch_size, target_len, target_vocab_size)\n",
        "\n",
        "        try:\n",
        "            # Drop the keras mask, so it does not scale the losses/metrics\n",
        "            # b/250038731\n",
        "            del logits._keras_mask\n",
        "        except AttributeError:\n",
        "            pass\n",
        "\n",
        "        # Return the final output and the attention weights\n",
        "        return logits"
      ]
    },
    {
      "cell_type": "markdown",
      "source": [
        "**Hyper-parameters**\n",
        "\n",
        "I settled on these hyperparameters after various iterations of fine-tuning."
      ],
      "metadata": {
        "id": "dkw14CyGqYP5"
      }
    },
    {
      "cell_type": "code",
      "execution_count": null,
      "metadata": {
        "id": "J3eXnbwOcBYu"
      },
      "outputs": [],
      "source": [
        "''' HYPERPARAMETERS '''\n",
        "\n",
        "num_layers = 2 # from 5 to 8\n",
        "d_model = 128\n",
        "num_heads = 1\n",
        "dff = 512\n",
        "input_vocab_size = 50000\n",
        "target_vocab_size = 50000\n",
        "dropout_rate = 0.3\n",
        "epochs = 30"
      ]
    },
    {
      "cell_type": "markdown",
      "source": [
        "**Training metrics**"
      ],
      "metadata": {
        "id": "OXAEB_eIsK4R"
      }
    },
    {
      "cell_type": "code",
      "execution_count": null,
      "metadata": {
        "id": "LJGeswuScVRc"
      },
      "outputs": [],
      "source": [
        "''' MASKED LOSS + MASKED ACCURACY + OPTIMIZER '''\n",
        "\n",
        "''' TRAINING '''\n",
        "\n",
        "# Set up the loss metrics\n",
        "\n",
        "def masked_loss(label, pred):\n",
        "    mask = label != 0\n",
        "    loss_object = tf.keras.losses.SparseCategoricalCrossentropy(from_logits=True, reduction='none')\n",
        "    loss = loss_object(label, pred)\n",
        "\n",
        "    mask = tf.cast(mask, dtype=loss.dtype)\n",
        "    loss *= mask\n",
        "\n",
        "    loss = tf.reduce_sum(loss)/tf.reduce_sum(mask)\n",
        "    return loss\n",
        "\n",
        "def masked_accuracy(label, pred):\n",
        "    pred = tf.argmax(pred, axis=2)\n",
        "    label = tf.cast(label, pred.dtype)\n",
        "    match = label == pred\n",
        "\n",
        "    mask = label != 0\n",
        "    match = match & mask\n",
        "\n",
        "    match = tf.cast(match, dtype=tf.float32)\n",
        "    mask = tf.cast(mask, dtype=tf.float32)\n",
        "    return tf.reduce_sum(match)/tf.reduce_sum(mask)\n",
        "\n",
        "class CustomSchedule(tf.keras.optimizers.schedules.LearningRateSchedule):\n",
        "    def __init__(self, d_model, warmup_steps=4000):\n",
        "        super().__init__()\n",
        "\n",
        "        self.d_model = d_model\n",
        "        self.d_model = tf.cast(self.d_model, tf.float32)\n",
        "\n",
        "        self.warmup_steps = warmup_steps\n",
        "\n",
        "    def __call__(self, step):\n",
        "        step = tf.cast(step, dtype=tf.float32)\n",
        "        arg1 = tf.math.rsqrt(step)\n",
        "        arg2 = step * (self.warmup_steps ** -1.5)\n",
        "\n",
        "        return tf.math.rsqrt(self.d_model) * tf.math.minimum(arg1, arg2)\n",
        "\n",
        "learning_rate = CustomSchedule(d_model)\n",
        "optimizer = tf.keras.optimizers.Adam(learning_rate, beta_1=0.9, beta_2=0.98, epsilon=1e-9)\n"
      ]
    },
    {
      "cell_type": "code",
      "execution_count": null,
      "metadata": {
        "id": "tfOsB3KXaxew"
      },
      "outputs": [],
      "source": [
        "''' CONSTRUCTION OF THE MODEL + CALLBACKS'''\n",
        "\n",
        "model = Transformer(num_layers=num_layers, d_model=d_model, num_heads=num_heads, dff=dff,\n",
        "                    input_vocab_size=input_vocab_size, target_vocab_size = target_vocab_size,\n",
        "                    dropout_rate=dropout_rate)\n",
        "\n",
        "model.compile(loss=masked_loss, optimizer=optimizer, metrics=[masked_accuracy])\n",
        "# Use a callback for early stopping\n",
        "callback = tf.keras.callbacks.EarlyStopping(\n",
        "    monitor='val_loss',\n",
        "    min_delta=0,\n",
        "    patience=3,\n",
        "    verbose=1,\n",
        "    mode='auto',\n",
        "    baseline=None,\n",
        "    restore_best_weights=False,\n",
        "    start_from_epoch=0\n",
        ")\n",
        "\n",
        "working_dir = '/content'  # Replace this with your working directory path\n",
        "file_name = 'weights.{epoch:02d}-val_loss_{val_loss:.2f}-val_masked_acc_{val_masked_accuracy:.2f}.hdf5'  # The file name format with placeholders for epoch and validation loss\n",
        "\n",
        "# Construct the checkpoint file path\n",
        "filepath = os.path.join(working_dir, 'ckpt', file_name)\n",
        "\n",
        "checkpoint_filepath = os.path.join(working_dir, 'ckpt', filepath)\n",
        "model_checkpoint_callback = tf.keras.callbacks.ModelCheckpoint(\n",
        "    filepath = checkpoint_filepath,\n",
        "    save_weights_only = True,\n",
        "    monitor = 'val_masked_accuracy',\n",
        "    verbose = 1,\n",
        "    save_best_only = True,\n",
        "    mode = 'auto',\n",
        "    save_freq = 'epoch'\n",
        ")\n"
      ]
    },
    {
      "cell_type": "code",
      "execution_count": null,
      "metadata": {
        "colab": {
          "background_save": true,
          "base_uri": "https://localhost:8080/"
        },
        "id": "hq187xjllHiK",
        "outputId": "9f5fed1b-95e3-4c3c-a2bb-06cce47ffbfd"
      },
      "outputs": [
        {
          "name": "stdout",
          "output_type": "stream",
          "text": [
            "Epoch 1/30\n",
            "25506/25506 [==============================] - ETA: 0s - loss: 1.2122 - masked_accuracy: 0.8794\n",
            "Epoch 1: val_masked_accuracy improved from -inf to 0.93137, saving model to /content/ckpt/weights.01-val_loss_0.77-val_masked_acc_0.93.hdf5\n",
            "25506/25506 [==============================] - 1823s 70ms/step - loss: 1.2122 - masked_accuracy: 0.8794 - val_loss: 0.7749 - val_masked_accuracy: 0.9314\n",
            "Epoch 2/30\n",
            "25506/25506 [==============================] - ETA: 0s - loss: 0.8618 - masked_accuracy: 0.9245\n",
            "Epoch 2: val_masked_accuracy improved from 0.93137 to 0.93417, saving model to /content/ckpt/weights.02-val_loss_0.77-val_masked_acc_0.93.hdf5\n",
            "25506/25506 [==============================] - 1605s 63ms/step - loss: 0.8618 - masked_accuracy: 0.9245 - val_loss: 0.7714 - val_masked_accuracy: 0.9342\n",
            "Epoch 3/30\n",
            "25506/25506 [==============================] - ETA: 0s - loss: 0.8495 - masked_accuracy: 0.9274\n",
            "Epoch 3: val_masked_accuracy did not improve from 0.93417\n",
            "25506/25506 [==============================] - 1607s 63ms/step - loss: 0.8495 - masked_accuracy: 0.9274 - val_loss: 0.7876 - val_masked_accuracy: 0.9340\n",
            "Epoch 4/30\n",
            "25506/25506 [==============================] - ETA: 0s - loss: 0.8414 - masked_accuracy: 0.9290\n",
            "Epoch 4: val_masked_accuracy improved from 0.93417 to 0.93664, saving model to /content/ckpt/weights.04-val_loss_0.76-val_masked_acc_0.94.hdf5\n",
            "25506/25506 [==============================] - 1606s 63ms/step - loss: 0.8414 - masked_accuracy: 0.9290 - val_loss: 0.7615 - val_masked_accuracy: 0.9366\n",
            "Epoch 5/30\n",
            "25506/25506 [==============================] - ETA: 0s - loss: 0.8354 - masked_accuracy: 0.9301\n",
            "Epoch 5: val_masked_accuracy did not improve from 0.93664\n",
            "25506/25506 [==============================] - 1592s 62ms/step - loss: 0.8354 - masked_accuracy: 0.9301 - val_loss: 0.7745 - val_masked_accuracy: 0.9361\n",
            "Epoch 6/30\n",
            "25506/25506 [==============================] - ETA: 0s - loss: 0.8327 - masked_accuracy: 0.9306\n",
            "Epoch 6: val_masked_accuracy did not improve from 0.93664\n",
            "25506/25506 [==============================] - 1604s 63ms/step - loss: 0.8327 - masked_accuracy: 0.9306 - val_loss: 0.7838 - val_masked_accuracy: 0.9349\n",
            "Epoch 7/30\n",
            "15892/25506 [=================>............] - ETA: 9:41 - loss: 0.8314 - masked_accuracy: 0.9309"
          ]
        }
      ],
      "source": [
        "'''TRAIN MODEL '''\n",
        "history = model.fit(dataset_train, epochs=epochs, validation_data=dataset_val, callbacks=[callback, model_checkpoint_callback])\n"
      ]
    },
    {
      "cell_type": "markdown",
      "source": [
        "**Visuals**"
      ],
      "metadata": {
        "id": "Wk5LUD8ksbNR"
      }
    },
    {
      "cell_type": "code",
      "execution_count": null,
      "metadata": {
        "colab": {
          "base_uri": "https://localhost:8080/",
          "height": 564
        },
        "id": "oQjvQC-dlL8j",
        "outputId": "4d1ffc29-434c-4a39-e935-379bb03aab7d"
      },
      "outputs": [
        {
          "data": {
            "image/png": "[encoded data removed]",
            "text/plain": [
              "<Figure size 1200x600 with 1 Axes>"
            ]
          },
          "metadata": {},
          "output_type": "display_data"
        }
      ],
      "source": [
        "# Get some visualizations\n",
        "history_dict = history.history\n",
        "'''\n",
        "#This should provide a dictionary with keys like:\n",
        " #- 'loss'\n",
        " #- 'accuracy'\n",
        " #- 'val_loss'\n",
        " #- 'val_accuracy'\n",
        "'''\n",
        "\n",
        "\n",
        "\n",
        "def plot_training_history(history_dict):\n",
        "    loss = history_dict['loss']\n",
        "    val_loss = history_dict['val_loss']\n",
        "    accuracy = history_dict['masked_accuracy']\n",
        "    val_accuracy = history_dict['val_masked_accuracy']\n",
        "    epochs = range(1, len(loss) + 1)\n",
        "\n",
        "    # Plot training and validation loss\n",
        "    plt.figure(figsize=(12, 6))\n",
        "    plt.subplot(1,2,1)\n",
        "    plt.plot(epochs, loss, 'bo', label='Training loss')\n",
        "    plt.plot(epochs, val_loss, 'b', label='Validation accuracy')\n",
        "    plt.title('Training and Validation Accuracy')\n",
        "    plt.xlabel('Epochs')\n",
        "    plt.ylabel('Accuracy')\n",
        "    plt.legend()\n",
        "    plt.show()\n",
        "plot_training_history(history_dict)\n"
      ]
    },
    {
      "cell_type": "markdown",
      "source": [
        "**Generating a Summary**\n",
        "\n",
        "Used the Bert Tokenizer's decode to convert the predicted ID's back to tokens"
      ],
      "metadata": {
        "id": "m1jTbb6xs0OD"
      }
    },
    {
      "cell_type": "code",
      "execution_count": null,
      "metadata": {
        "colab": {
          "base_uri": "https://localhost:8080/"
        },
        "id": "PMllVdsvlU2B",
        "outputId": "c5edb104-2a03-45ba-b057-9805b42f54b3"
      },
      "outputs": [
        {
          "name": "stdout",
          "output_type": "stream",
          "text": [
            "Document: The full cost of damage in Newton Stewart, one of the areas worst affected, is still being assessed.\n",
            "Repair work is ongoing in Hawick and many roads in Peeblesshire remain badly affected by standing water.\n",
            "Trains on the west coast mainline face disruption due to damage at the Lamington Viaduct.\n",
            "Many businesses and householders were affected by flooding in Newton Stewart after the River Cree overflowed into the town.\n",
            "First Minister Nicola Sturgeon visited the area to inspect the damage.\n",
            "The waters breached a retaining wall, flooding many commercial properties on Victoria Street - the main shopping thoroughfare.\n",
            "Jeanette Tate, who owns the Cinnamon Cafe which was badly affected, said she could not fault the multi-agency response once the flood hit.\n",
            "However, she said more preventative work could have been carried out to ensure the retaining wall did not fail.\n",
            "\"It is difficult but I do think there is so much publicity for Dumfries and the Nith - and I totally appreciate that - but it is almost like we're neglected or forgotten,\" she said.\n",
            "\"That may not be true but it is perhaps my perspective over the last few days.\n",
            "\"Why were you not ready to help us a bit more when the warning and the alarm alerts had gone out?\"\n",
            "Meanwhile, a flood alert remains in place across the Borders because of the constant rain.\n",
            "Peebles was badly hit by problems, sparking calls to introduce more defences in the area.\n",
            "Scottish Borders Council has put a list on its website of the roads worst affected and drivers have been urged not to ignore closure signs.\n",
            "The Labour Party's deputy Scottish leader Alex Rowley was in Hawick on Monday to see the situation first hand.\n",
            "He said it was important to get the flood protection plan right but backed calls to speed up the process.\n",
            "\"I was quite taken aback by the amount of damage that has been done,\" he said.\n",
            "\"Obviously it is heart-breaking for people who have been forced out of their homes and the impact on businesses.\"\n",
            "He said it was important that \"immediate steps\" were taken to protect the areas most vulnerable and a clear timetable put in place for flood prevention plans.\n",
            "Have you been affected by flooding in Dumfries and Galloway or the Borders? Tell us about your experience of the situation and how it was handled. Email us on selkirk.news@bbc.co.uk or dumfries@bbc.co.uk.\n",
            "Summary: [CLS] [CLS] [CLS] [CLS] [CLS] [CLS] [CLS] [CLS] [CLS] [CLS] [CLS] [CLS] [CLS] [CLS] [CLS] [CLS] [CLS] [CLS] [CLS] [CLS] [CLS] [CLS] [CLS] [CLS] [CLS] [CLS] [CLS] [CLS] [CLS] [CLS] [CLS] [CLS] [CLS] [CLS] [CLS] [CLS] [CLS] [CLS] [CLS] [CLS] [CLS] [CLS] [CLS] [CLS] [CLS] [CLS] [CLS] [CLS] [CLS] [CLS] [CLS] [CLS] [CLS] [CLS] [CLS] [CLS] [CLS] [CLS] [CLS] [CLS] [CLS] [CLS] kyle kyle kyle kyle kyle kyle kyle kyle kyle kyle kyle kyle kyle kyle kyle kyle kyle kyle kyle kyle kyle kyle kyle kyle kyle kyle kyle kyle kyle kyle kyle kyle kyle kyle kyle kyle kyle kyle kyle kyle kyle kyle kyle kyle kyle kyle kyle kyle kyle kyle kyle kyle kyle kyle kyle kyle kyle kyle kyle kyle kyle kyle kyle kyle kyle kyle kyle\n"
          ]
        }
      ],
      "source": [
        "# Generating a summary\n",
        "\n",
        "class Summarizer:\n",
        "    def __init__(self, model, tokenizer):\n",
        "        self.model = model\n",
        "        self.tokenizer = tokenizer\n",
        "\n",
        "    def __call__(self, document, max_length=128):\n",
        "        if not isinstance(document, str):\n",
        "            document = tf.constant(document, dtype=tf.string)\n",
        "            if len(document.shape) == 0:\n",
        "                document = document[tf.newaxis]\n",
        "            document = document.numpy().tolist()[0].decode('utf-8')\n",
        "\n",
        "        inputs = self.tokenizer(document, return_tensors='tf', padding=True, truncation=True)\n",
        "        encoder_input = inputs['input_ids'] # fuzzy...there is no input_id in the document I pass into the model\n",
        "        guidance_input = tf.zeros_like(encoder_input) # fuzzy why create the same tensor with zeros\n",
        "\n",
        "        output_array = tf.TensorArray(dtype=tf.int64, size=0, dynamic_size=True)\n",
        "        output_array = output_array.write(0, tf.constant([self.tokenizer.bos_token_id], dtype=tf.int64))\n",
        "\n",
        "        for i in tf.range(max_length):\n",
        "            output = tf.transpose(output_array.stack())\n",
        "            predictions = self.model({'input_ids': encoder_input, 'guidance_inputs': guidance_input, 'decoder_input_ids': output}, training=False)\n",
        "            predictions = predictions[:, -1, :]\n",
        "            predicted_id = tf.argmax(predictions, axis=-1, output_type=tf.int64)\n",
        "            if tf.reduce_all(predicted_id == self.tokenizer.eos_token_id):\n",
        "                break\n",
        "            output_array = output_array.write(i + 1, predicted_id)\n",
        "\n",
        "        tokens = output_array.stack()\n",
        "        summary = self.tokenizer.decode(tokens.numpy().squeeze())\n",
        "        return summary, tokens\n",
        "\n",
        "\n",
        "summarizer = Summarizer(model = model, tokenizer = tokenizer)\n",
        "\n",
        "input_text = train_dict['0']['document']\n",
        "print(\"Document:\", input_text)\n",
        "\n",
        "summary, tokens = summarizer(input_text)\n",
        "print(\"Summary:\", summary)"
      ]
    },
    {
      "cell_type": "markdown",
      "source": [
        "**Results**\n",
        "\n",
        "As you can see from the graph, the results of my summarizer were not the greatest. The summary largely consisted of the [CLS] token and one or two words repeated consistently. Despite these results, I realized that building a model from scratch with no pre-training strategy will always result in a model that will stray from accurate results. I did not use the masked langugae training technique or the causal language training technique. I provided a transformer built from scratch, with a little over 200,000 examples and guidance signals. Many open-source models use at least 5 times the amount of examples I have. Anyways, this was a fun experience, regardless of the results."
      ],
      "metadata": {
        "id": "dzjpbZieu47Q"
      }
    }
  ],
  "metadata": {
    "accelerator": "GPU",
    "colab": {
      "machine_shape": "hm",
      "provenance": [],
      "mount_file_id": "1u87kGHulOGRUOI5u16-x69UlOQjd3Erk",
      "authorship_tag": "ABX9TyMBRSHerOuD7j4VhoOkF+Lu",
      "include_colab_link": true
    },
    "kernelspec": {
      "display_name": "Python 3",
      "name": "python3"
    },
    "language_info": {
      "name": "python"
    },
    "widgets": {
      "application/vnd.jupyter.widget-state+json": {
        "000e34499eb042ea9ca4fc2614d19084": {
          "model_module": "@jupyter-widgets/controls",
          "model_module_version": "1.5.0",
          "model_name": "ProgressStyleModel",
          "state": {
            "_model_module": "@jupyter-widgets/controls",
            "_model_module_version": "1.5.0",
            "_model_name": "ProgressStyleModel",
            "_view_count": null,
            "_view_module": "@jupyter-widgets/base",
            "_view_module_version": "1.2.0",
            "_view_name": "StyleView",
            "bar_color": null,
            "description_width": ""
          }
        },
        "01678e2132634640b3b64c72bf4bb514": {
          "model_module": "@jupyter-widgets/controls",
          "model_module_version": "1.5.0",
          "model_name": "HTMLModel",
          "state": {
            "_dom_classes": [],
            "_model_module": "@jupyter-widgets/controls",
            "_model_module_version": "1.5.0",
            "_model_name": "HTMLModel",
            "_view_count": null,
            "_view_module": "@jupyter-widgets/controls",
            "_view_module_version": "1.5.0",
            "_view_name": "HTMLView",
            "description": "",
            "description_tooltip": null,
            "layout": "IPY_MODEL_cb70f5ca974d4f3790bd74ab798f4958",
            "placeholder": "​",
            "style": "IPY_MODEL_f7926b4b3ef9429cac2d966adb56b5e8",
            "value": " 570/570 [00:00&lt;00:00, 53.7kB/s]"
          }
        },
        "02d8ca41dce3428aae719213898f9808": {
          "model_module": "@jupyter-widgets/controls",
          "model_module_version": "1.5.0",
          "model_name": "DescriptionStyleModel",
          "state": {
            "_model_module": "@jupyter-widgets/controls",
            "_model_module_version": "1.5.0",
            "_model_name": "DescriptionStyleModel",
            "_view_count": null,
            "_view_module": "@jupyter-widgets/base",
            "_view_module_version": "1.2.0",
            "_view_name": "StyleView",
            "description_width": ""
          }
        },
        "09a4c3086e994a6cae94a7e956bc8feb": {
          "model_module": "@jupyter-widgets/base",
          "model_module_version": "1.2.0",
          "model_name": "LayoutModel",
          "state": {
            "_model_module": "@jupyter-widgets/base",
            "_model_module_version": "1.2.0",
            "_model_name": "LayoutModel",
            "_view_count": null,
            "_view_module": "@jupyter-widgets/base",
            "_view_module_version": "1.2.0",
            "_view_name": "LayoutView",
            "align_content": null,
            "align_items": null,
            "align_self": null,
            "border": null,
            "bottom": null,
            "display": null,
            "flex": null,
            "flex_flow": null,
            "grid_area": null,
            "grid_auto_columns": null,
            "grid_auto_flow": null,
            "grid_auto_rows": null,
            "grid_column": null,
            "grid_gap": null,
            "grid_row": null,
            "grid_template_areas": null,
            "grid_template_columns": null,
            "grid_template_rows": null,
            "height": null,
            "justify_content": null,
            "justify_items": null,
            "left": null,
            "margin": null,
            "max_height": null,
            "max_width": null,
            "min_height": null,
            "min_width": null,
            "object_fit": null,
            "object_position": null,
            "order": null,
            "overflow": null,
            "overflow_x": null,
            "overflow_y": null,
            "padding": null,
            "right": null,
            "top": null,
            "visibility": null,
            "width": null
          }
        },
        "11050daeb12741ee8adad914b6b77a54": {
          "model_module": "@jupyter-widgets/controls",
          "model_module_version": "1.5.0",
          "model_name": "ProgressStyleModel",
          "state": {
            "_model_module": "@jupyter-widgets/controls",
            "_model_module_version": "1.5.0",
            "_model_name": "ProgressStyleModel",
            "_view_count": null,
            "_view_module": "@jupyter-widgets/base",
            "_view_module_version": "1.2.0",
            "_view_name": "StyleView",
            "bar_color": null,
            "description_width": ""
          }
        },
        "1b64ddb94a2d4a76b18a334a536450d2": {
          "model_module": "@jupyter-widgets/controls",
          "model_module_version": "1.5.0",
          "model_name": "DescriptionStyleModel",
          "state": {
            "_model_module": "@jupyter-widgets/controls",
            "_model_module_version": "1.5.0",
            "_model_name": "DescriptionStyleModel",
            "_view_count": null,
            "_view_module": "@jupyter-widgets/base",
            "_view_module_version": "1.2.0",
            "_view_name": "StyleView",
            "description_width": ""
          }
        },
        "23fff6004f824067a08c6422a018e1c6": {
          "model_module": "@jupyter-widgets/controls",
          "model_module_version": "1.5.0",
          "model_name": "HTMLModel",
          "state": {
            "_dom_classes": [],
            "_model_module": "@jupyter-widgets/controls",
            "_model_module_version": "1.5.0",
            "_model_name": "HTMLModel",
            "_view_count": null,
            "_view_module": "@jupyter-widgets/controls",
            "_view_module_version": "1.5.0",
            "_view_name": "HTMLView",
            "description": "",
            "description_tooltip": null,
            "layout": "IPY_MODEL_e12dc078f7bd4c208d51598316e27b4a",
            "placeholder": "​",
            "style": "IPY_MODEL_1b64ddb94a2d4a76b18a334a536450d2",
            "value": "Map: 100%"
          }
        },
        "26933ab511f541a1af72f4deaee4ab6f": {
          "model_module": "@jupyter-widgets/controls",
          "model_module_version": "1.5.0",
          "model_name": "FloatProgressModel",
          "state": {
            "_dom_classes": [],
            "_model_module": "@jupyter-widgets/controls",
            "_model_module_version": "1.5.0",
            "_model_name": "FloatProgressModel",
            "_view_count": null,
            "_view_module": "@jupyter-widgets/controls",
            "_view_module_version": "1.5.0",
            "_view_name": "ProgressView",
            "bar_style": "success",
            "description": "",
            "description_tooltip": null,
            "layout": "IPY_MODEL_389d001a58684ca2a65dbaa17c342f9f",
            "max": 570,
            "min": 0,
            "orientation": "horizontal",
            "style": "IPY_MODEL_baac093d029a4426a27e4027611d2460",
            "value": 570
          }
        },
        "26c1f6be8afa4e7eb509a1a17e673a42": {
          "model_module": "@jupyter-widgets/controls",
          "model_module_version": "1.5.0",
          "model_name": "HTMLModel",
          "state": {
            "_dom_classes": [],
            "_model_module": "@jupyter-widgets/controls",
            "_model_module_version": "1.5.0",
            "_model_name": "HTMLModel",
            "_view_count": null,
            "_view_module": "@jupyter-widgets/controls",
            "_view_module_version": "1.5.0",
            "_view_name": "HTMLView",
            "description": "",
            "description_tooltip": null,
            "layout": "IPY_MODEL_fab7402bb1a34fb1ad1557f2b0846228",
            "placeholder": "​",
            "style": "IPY_MODEL_ab5b16f236c549d5bdfda3c25d6966a9",
            "value": " 28.0/28.0 [00:00&lt;00:00, 2.72kB/s]"
          }
        },
        "379dcb1534cc497b84066890e03ef532": {
          "model_module": "@jupyter-widgets/base",
          "model_module_version": "1.2.0",
          "model_name": "LayoutModel",
          "state": {
            "_model_module": "@jupyter-widgets/base",
            "_model_module_version": "1.2.0",
            "_model_name": "LayoutModel",
            "_view_count": null,
            "_view_module": "@jupyter-widgets/base",
            "_view_module_version": "1.2.0",
            "_view_name": "LayoutView",
            "align_content": null,
            "align_items": null,
            "align_self": null,
            "border": null,
            "bottom": null,
            "display": null,
            "flex": null,
            "flex_flow": null,
            "grid_area": null,
            "grid_auto_columns": null,
            "grid_auto_flow": null,
            "grid_auto_rows": null,
            "grid_column": null,
            "grid_gap": null,
            "grid_row": null,
            "grid_template_areas": null,
            "grid_template_columns": null,
            "grid_template_rows": null,
            "height": null,
            "justify_content": null,
            "justify_items": null,
            "left": null,
            "margin": null,
            "max_height": null,
            "max_width": null,
            "min_height": null,
            "min_width": null,
            "object_fit": null,
            "object_position": null,
            "order": null,
            "overflow": null,
            "overflow_x": null,
            "overflow_y": null,
            "padding": null,
            "right": null,
            "top": null,
            "visibility": null,
            "width": null
          }
        },
        "389d001a58684ca2a65dbaa17c342f9f": {
          "model_module": "@jupyter-widgets/base",
          "model_module_version": "1.2.0",
          "model_name": "LayoutModel",
          "state": {
            "_model_module": "@jupyter-widgets/base",
            "_model_module_version": "1.2.0",
            "_model_name": "LayoutModel",
            "_view_count": null,
            "_view_module": "@jupyter-widgets/base",
            "_view_module_version": "1.2.0",
            "_view_name": "LayoutView",
            "align_content": null,
            "align_items": null,
            "align_self": null,
            "border": null,
            "bottom": null,
            "display": null,
            "flex": null,
            "flex_flow": null,
            "grid_area": null,
            "grid_auto_columns": null,
            "grid_auto_flow": null,
            "grid_auto_rows": null,
            "grid_column": null,
            "grid_gap": null,
            "grid_row": null,
            "grid_template_areas": null,
            "grid_template_columns": null,
            "grid_template_rows": null,
            "height": null,
            "justify_content": null,
            "justify_items": null,
            "left": null,
            "margin": null,
            "max_height": null,
            "max_width": null,
            "min_height": null,
            "min_width": null,
            "object_fit": null,
            "object_position": null,
            "order": null,
            "overflow": null,
            "overflow_x": null,
            "overflow_y": null,
            "padding": null,
            "right": null,
            "top": null,
            "visibility": null,
            "width": null
          }
        },
        "3f33652f2d7e4c36bb6c01ba6731e391": {
          "model_module": "@jupyter-widgets/controls",
          "model_module_version": "1.5.0",
          "model_name": "HTMLModel",
          "state": {
            "_dom_classes": [],
            "_model_module": "@jupyter-widgets/controls",
            "_model_module_version": "1.5.0",
            "_model_name": "HTMLModel",
            "_view_count": null,
            "_view_module": "@jupyter-widgets/controls",
            "_view_module_version": "1.5.0",
            "_view_name": "HTMLView",
            "description": "",
            "description_tooltip": null,
            "layout": "IPY_MODEL_5fb3543f8e5a48ecb63dc3484ab86490",
            "placeholder": "​",
            "style": "IPY_MODEL_a8e1f01d7d1840ab9047b54daa0dedab",
            "value": " 11328/11332 [01:37&lt;00:00, 125.26 examples/s]"
          }
        },
        "424fda188011446d8ce51c3133ae4bfc": {
          "model_module": "@jupyter-widgets/base",
          "model_module_version": "1.2.0",
          "model_name": "LayoutModel",
          "state": {
            "_model_module": "@jupyter-widgets/base",
            "_model_module_version": "1.2.0",
            "_model_name": "LayoutModel",
            "_view_count": null,
            "_view_module": "@jupyter-widgets/base",
            "_view_module_version": "1.2.0",
            "_view_name": "LayoutView",
            "align_content": null,
            "align_items": null,
            "align_self": null,
            "border": null,
            "bottom": null,
            "display": null,
            "flex": null,
            "flex_flow": null,
            "grid_area": null,
            "grid_auto_columns": null,
            "grid_auto_flow": null,
            "grid_auto_rows": null,
            "grid_column": null,
            "grid_gap": null,
            "grid_row": null,
            "grid_template_areas": null,
            "grid_template_columns": null,
            "grid_template_rows": null,
            "height": null,
            "justify_content": null,
            "justify_items": null,
            "left": null,
            "margin": null,
            "max_height": null,
            "max_width": null,
            "min_height": null,
            "min_width": null,
            "object_fit": null,
            "object_position": null,
            "order": null,
            "overflow": null,
            "overflow_x": null,
            "overflow_y": null,
            "padding": null,
            "right": null,
            "top": null,
            "visibility": null,
            "width": null
          }
        },
        "44b798e5a28f4bfdb0f4bd0b1938954c": {
          "model_module": "@jupyter-widgets/controls",
          "model_module_version": "1.5.0",
          "model_name": "HTMLModel",
          "state": {
            "_dom_classes": [],
            "_model_module": "@jupyter-widgets/controls",
            "_model_module_version": "1.5.0",
            "_model_name": "HTMLModel",
            "_view_count": null,
            "_view_module": "@jupyter-widgets/controls",
            "_view_module_version": "1.5.0",
            "_view_name": "HTMLView",
            "description": "",
            "description_tooltip": null,
            "layout": "IPY_MODEL_e461b628f8a741f48e7c758eb24e6dc8",
            "placeholder": "​",
            "style": "IPY_MODEL_82e7ceae605546659cdaaeaf993392a4",
            "value": "Downloading (…)lve/main/config.json: 100%"
          }
        },
        "477575de87944a7692a5746bd3fc138c": {
          "model_module": "@jupyter-widgets/base",
          "model_module_version": "1.2.0",
          "model_name": "LayoutModel",
          "state": {
            "_model_module": "@jupyter-widgets/base",
            "_model_module_version": "1.2.0",
            "_model_name": "LayoutModel",
            "_view_count": null,
            "_view_module": "@jupyter-widgets/base",
            "_view_module_version": "1.2.0",
            "_view_name": "LayoutView",
            "align_content": null,
            "align_items": null,
            "align_self": null,
            "border": null,
            "bottom": null,
            "display": null,
            "flex": null,
            "flex_flow": null,
            "grid_area": null,
            "grid_auto_columns": null,
            "grid_auto_flow": null,
            "grid_auto_rows": null,
            "grid_column": null,
            "grid_gap": null,
            "grid_row": null,
            "grid_template_areas": null,
            "grid_template_columns": null,
            "grid_template_rows": null,
            "height": null,
            "justify_content": null,
            "justify_items": null,
            "left": null,
            "margin": null,
            "max_height": null,
            "max_width": null,
            "min_height": null,
            "min_width": null,
            "object_fit": null,
            "object_position": null,
            "order": null,
            "overflow": null,
            "overflow_x": null,
            "overflow_y": null,
            "padding": null,
            "right": null,
            "top": null,
            "visibility": null,
            "width": null
          }
        },
        "5774504fff924f769d5ab9a628d83b2a": {
          "model_module": "@jupyter-widgets/controls",
          "model_module_version": "1.5.0",
          "model_name": "FloatProgressModel",
          "state": {
            "_dom_classes": [],
            "_model_module": "@jupyter-widgets/controls",
            "_model_module_version": "1.5.0",
            "_model_name": "FloatProgressModel",
            "_view_count": null,
            "_view_module": "@jupyter-widgets/controls",
            "_view_module_version": "1.5.0",
            "_view_name": "ProgressView",
            "bar_style": "success",
            "description": "",
            "description_tooltip": null,
            "layout": "IPY_MODEL_901e5ff5718b467d82e685c39b40865e",
            "max": 231508,
            "min": 0,
            "orientation": "horizontal",
            "style": "IPY_MODEL_11050daeb12741ee8adad914b6b77a54",
            "value": 231508
          }
        },
        "5fb3543f8e5a48ecb63dc3484ab86490": {
          "model_module": "@jupyter-widgets/base",
          "model_module_version": "1.2.0",
          "model_name": "LayoutModel",
          "state": {
            "_model_module": "@jupyter-widgets/base",
            "_model_module_version": "1.2.0",
            "_model_name": "LayoutModel",
            "_view_count": null,
            "_view_module": "@jupyter-widgets/base",
            "_view_module_version": "1.2.0",
            "_view_name": "LayoutView",
            "align_content": null,
            "align_items": null,
            "align_self": null,
            "border": null,
            "bottom": null,
            "display": null,
            "flex": null,
            "flex_flow": null,
            "grid_area": null,
            "grid_auto_columns": null,
            "grid_auto_flow": null,
            "grid_auto_rows": null,
            "grid_column": null,
            "grid_gap": null,
            "grid_row": null,
            "grid_template_areas": null,
            "grid_template_columns": null,
            "grid_template_rows": null,
            "height": null,
            "justify_content": null,
            "justify_items": null,
            "left": null,
            "margin": null,
            "max_height": null,
            "max_width": null,
            "min_height": null,
            "min_width": null,
            "object_fit": null,
            "object_position": null,
            "order": null,
            "overflow": null,
            "overflow_x": null,
            "overflow_y": null,
            "padding": null,
            "right": null,
            "top": null,
            "visibility": null,
            "width": null
          }
        },
        "645ff88fe1f442b5b8916b2478fc0909": {
          "model_module": "@jupyter-widgets/base",
          "model_module_version": "1.2.0",
          "model_name": "LayoutModel",
          "state": {
            "_model_module": "@jupyter-widgets/base",
            "_model_module_version": "1.2.0",
            "_model_name": "LayoutModel",
            "_view_count": null,
            "_view_module": "@jupyter-widgets/base",
            "_view_module_version": "1.2.0",
            "_view_name": "LayoutView",
            "align_content": null,
            "align_items": null,
            "align_self": null,
            "border": null,
            "bottom": null,
            "display": null,
            "flex": null,
            "flex_flow": null,
            "grid_area": null,
            "grid_auto_columns": null,
            "grid_auto_flow": null,
            "grid_auto_rows": null,
            "grid_column": null,
            "grid_gap": null,
            "grid_row": null,
            "grid_template_areas": null,
            "grid_template_columns": null,
            "grid_template_rows": null,
            "height": null,
            "justify_content": null,
            "justify_items": null,
            "left": null,
            "margin": null,
            "max_height": null,
            "max_width": null,
            "min_height": null,
            "min_width": null,
            "object_fit": null,
            "object_position": null,
            "order": null,
            "overflow": null,
            "overflow_x": null,
            "overflow_y": null,
            "padding": null,
            "right": null,
            "top": null,
            "visibility": null,
            "width": null
          }
        },
        "676535c67fc8414880899ee9c619c8b3": {
          "model_module": "@jupyter-widgets/base",
          "model_module_version": "1.2.0",
          "model_name": "LayoutModel",
          "state": {
            "_model_module": "@jupyter-widgets/base",
            "_model_module_version": "1.2.0",
            "_model_name": "LayoutModel",
            "_view_count": null,
            "_view_module": "@jupyter-widgets/base",
            "_view_module_version": "1.2.0",
            "_view_name": "LayoutView",
            "align_content": null,
            "align_items": null,
            "align_self": null,
            "border": null,
            "bottom": null,
            "display": null,
            "flex": null,
            "flex_flow": null,
            "grid_area": null,
            "grid_auto_columns": null,
            "grid_auto_flow": null,
            "grid_auto_rows": null,
            "grid_column": null,
            "grid_gap": null,
            "grid_row": null,
            "grid_template_areas": null,
            "grid_template_columns": null,
            "grid_template_rows": null,
            "height": null,
            "justify_content": null,
            "justify_items": null,
            "left": null,
            "margin": null,
            "max_height": null,
            "max_width": null,
            "min_height": null,
            "min_width": null,
            "object_fit": null,
            "object_position": null,
            "order": null,
            "overflow": null,
            "overflow_x": null,
            "overflow_y": null,
            "padding": null,
            "right": null,
            "top": null,
            "visibility": null,
            "width": null
          }
        },
        "6c8c5e2a08434e6a858496e0f91f0b93": {
          "model_module": "@jupyter-widgets/controls",
          "model_module_version": "1.5.0",
          "model_name": "ProgressStyleModel",
          "state": {
            "_model_module": "@jupyter-widgets/controls",
            "_model_module_version": "1.5.0",
            "_model_name": "ProgressStyleModel",
            "_view_count": null,
            "_view_module": "@jupyter-widgets/base",
            "_view_module_version": "1.2.0",
            "_view_name": "StyleView",
            "bar_color": null,
            "description_width": ""
          }
        },
        "73cc27e3cb6347098b94480b9089bafa": {
          "model_module": "@jupyter-widgets/base",
          "model_module_version": "1.2.0",
          "model_name": "LayoutModel",
          "state": {
            "_model_module": "@jupyter-widgets/base",
            "_model_module_version": "1.2.0",
            "_model_name": "LayoutModel",
            "_view_count": null,
            "_view_module": "@jupyter-widgets/base",
            "_view_module_version": "1.2.0",
            "_view_name": "LayoutView",
            "align_content": null,
            "align_items": null,
            "align_self": null,
            "border": null,
            "bottom": null,
            "display": null,
            "flex": null,
            "flex_flow": null,
            "grid_area": null,
            "grid_auto_columns": null,
            "grid_auto_flow": null,
            "grid_auto_rows": null,
            "grid_column": null,
            "grid_gap": null,
            "grid_row": null,
            "grid_template_areas": null,
            "grid_template_columns": null,
            "grid_template_rows": null,
            "height": null,
            "justify_content": null,
            "justify_items": null,
            "left": null,
            "margin": null,
            "max_height": null,
            "max_width": null,
            "min_height": null,
            "min_width": null,
            "object_fit": null,
            "object_position": null,
            "order": null,
            "overflow": null,
            "overflow_x": null,
            "overflow_y": null,
            "padding": null,
            "right": null,
            "top": null,
            "visibility": null,
            "width": null
          }
        },
        "7ab5f306a9844a4cb3de02be4145330a": {
          "model_module": "@jupyter-widgets/controls",
          "model_module_version": "1.5.0",
          "model_name": "HTMLModel",
          "state": {
            "_dom_classes": [],
            "_model_module": "@jupyter-widgets/controls",
            "_model_module_version": "1.5.0",
            "_model_name": "HTMLModel",
            "_view_count": null,
            "_view_module": "@jupyter-widgets/controls",
            "_view_module_version": "1.5.0",
            "_view_name": "HTMLView",
            "description": "",
            "description_tooltip": null,
            "layout": "IPY_MODEL_ed908112647b49f5837cf9b473bf3f4a",
            "placeholder": "​",
            "style": "IPY_MODEL_9d31abeccfa943638dc40100b7fa9e72",
            "value": "Downloading (…)okenizer_config.json: 100%"
          }
        },
        "80fc74bc52554a339078b7ca3eb34a71": {
          "model_module": "@jupyter-widgets/controls",
          "model_module_version": "1.5.0",
          "model_name": "DescriptionStyleModel",
          "state": {
            "_model_module": "@jupyter-widgets/controls",
            "_model_module_version": "1.5.0",
            "_model_name": "DescriptionStyleModel",
            "_view_count": null,
            "_view_module": "@jupyter-widgets/base",
            "_view_module_version": "1.2.0",
            "_view_name": "StyleView",
            "description_width": ""
          }
        },
        "818a44af397c4f9983127348759e8293": {
          "model_module": "@jupyter-widgets/controls",
          "model_module_version": "1.5.0",
          "model_name": "DescriptionStyleModel",
          "state": {
            "_model_module": "@jupyter-widgets/controls",
            "_model_module_version": "1.5.0",
            "_model_name": "DescriptionStyleModel",
            "_view_count": null,
            "_view_module": "@jupyter-widgets/base",
            "_view_module_version": "1.2.0",
            "_view_name": "StyleView",
            "description_width": ""
          }
        },
        "82ba6331650c482cbf3b18fbad04d8e8": {
          "model_module": "@jupyter-widgets/controls",
          "model_module_version": "1.5.0",
          "model_name": "HBoxModel",
          "state": {
            "_dom_classes": [],
            "_model_module": "@jupyter-widgets/controls",
            "_model_module_version": "1.5.0",
            "_model_name": "HBoxModel",
            "_view_count": null,
            "_view_module": "@jupyter-widgets/controls",
            "_view_module_version": "1.5.0",
            "_view_name": "HBoxView",
            "box_style": "",
            "children": [
              "IPY_MODEL_bea91c5f0e63441d82ff64cb34898593",
              "IPY_MODEL_8ae35851dfb1450792d99103501a6f1c",
              "IPY_MODEL_3f33652f2d7e4c36bb6c01ba6731e391"
            ],
            "layout": "IPY_MODEL_af59605acb804da7b9d45fb4e1662058"
          }
        },
        "82e7ceae605546659cdaaeaf993392a4": {
          "model_module": "@jupyter-widgets/controls",
          "model_module_version": "1.5.0",
          "model_name": "DescriptionStyleModel",
          "state": {
            "_model_module": "@jupyter-widgets/controls",
            "_model_module_version": "1.5.0",
            "_model_name": "DescriptionStyleModel",
            "_view_count": null,
            "_view_module": "@jupyter-widgets/base",
            "_view_module_version": "1.2.0",
            "_view_name": "StyleView",
            "description_width": ""
          }
        },
        "86c4397de31c474098482814127d994d": {
          "model_module": "@jupyter-widgets/controls",
          "model_module_version": "1.5.0",
          "model_name": "FloatProgressModel",
          "state": {
            "_dom_classes": [],
            "_model_module": "@jupyter-widgets/controls",
            "_model_module_version": "1.5.0",
            "_model_name": "FloatProgressModel",
            "_view_count": null,
            "_view_module": "@jupyter-widgets/controls",
            "_view_module_version": "1.5.0",
            "_view_name": "ProgressView",
            "bar_style": "success",
            "description": "",
            "description_tooltip": null,
            "layout": "IPY_MODEL_477575de87944a7692a5746bd3fc138c",
            "max": 28,
            "min": 0,
            "orientation": "horizontal",
            "style": "IPY_MODEL_000e34499eb042ea9ca4fc2614d19084",
            "value": 28
          }
        },
        "8ae35851dfb1450792d99103501a6f1c": {
          "model_module": "@jupyter-widgets/controls",
          "model_module_version": "1.5.0",
          "model_name": "FloatProgressModel",
          "state": {
            "_dom_classes": [],
            "_model_module": "@jupyter-widgets/controls",
            "_model_module_version": "1.5.0",
            "_model_name": "FloatProgressModel",
            "_view_count": null,
            "_view_module": "@jupyter-widgets/controls",
            "_view_module_version": "1.5.0",
            "_view_name": "ProgressView",
            "bar_style": "",
            "description": "",
            "description_tooltip": null,
            "layout": "IPY_MODEL_73cc27e3cb6347098b94480b9089bafa",
            "max": 11332,
            "min": 0,
            "orientation": "horizontal",
            "style": "IPY_MODEL_f6f72605a51a4851b7fdaaaca8452c0c",
            "value": 11332
          }
        },
        "901e5ff5718b467d82e685c39b40865e": {
          "model_module": "@jupyter-widgets/base",
          "model_module_version": "1.2.0",
          "model_name": "LayoutModel",
          "state": {
            "_model_module": "@jupyter-widgets/base",
            "_model_module_version": "1.2.0",
            "_model_name": "LayoutModel",
            "_view_count": null,
            "_view_module": "@jupyter-widgets/base",
            "_view_module_version": "1.2.0",
            "_view_name": "LayoutView",
            "align_content": null,
            "align_items": null,
            "align_self": null,
            "border": null,
            "bottom": null,
            "display": null,
            "flex": null,
            "flex_flow": null,
            "grid_area": null,
            "grid_auto_columns": null,
            "grid_auto_flow": null,
            "grid_auto_rows": null,
            "grid_column": null,
            "grid_gap": null,
            "grid_row": null,
            "grid_template_areas": null,
            "grid_template_columns": null,
            "grid_template_rows": null,
            "height": null,
            "justify_content": null,
            "justify_items": null,
            "left": null,
            "margin": null,
            "max_height": null,
            "max_width": null,
            "min_height": null,
            "min_width": null,
            "object_fit": null,
            "object_position": null,
            "order": null,
            "overflow": null,
            "overflow_x": null,
            "overflow_y": null,
            "padding": null,
            "right": null,
            "top": null,
            "visibility": null,
            "width": null
          }
        },
        "977bb73b9496419d8f5d2b66d85f17c2": {
          "model_module": "@jupyter-widgets/controls",
          "model_module_version": "1.5.0",
          "model_name": "HTMLModel",
          "state": {
            "_dom_classes": [],
            "_model_module": "@jupyter-widgets/controls",
            "_model_module_version": "1.5.0",
            "_model_name": "HTMLModel",
            "_view_count": null,
            "_view_module": "@jupyter-widgets/controls",
            "_view_module_version": "1.5.0",
            "_view_name": "HTMLView",
            "description": "",
            "description_tooltip": null,
            "layout": "IPY_MODEL_ed445f9b65ac4d2ebca738d05f619263",
            "placeholder": "​",
            "style": "IPY_MODEL_818a44af397c4f9983127348759e8293",
            "value": " 232k/232k [00:00&lt;00:00, 1.12MB/s]"
          }
        },
        "9cda024d397341ada5a8ed99132baa10": {
          "model_module": "@jupyter-widgets/base",
          "model_module_version": "1.2.0",
          "model_name": "LayoutModel",
          "state": {
            "_model_module": "@jupyter-widgets/base",
            "_model_module_version": "1.2.0",
            "_model_name": "LayoutModel",
            "_view_count": null,
            "_view_module": "@jupyter-widgets/base",
            "_view_module_version": "1.2.0",
            "_view_name": "LayoutView",
            "align_content": null,
            "align_items": null,
            "align_self": null,
            "border": null,
            "bottom": null,
            "display": null,
            "flex": null,
            "flex_flow": null,
            "grid_area": null,
            "grid_auto_columns": null,
            "grid_auto_flow": null,
            "grid_auto_rows": null,
            "grid_column": null,
            "grid_gap": null,
            "grid_row": null,
            "grid_template_areas": null,
            "grid_template_columns": null,
            "grid_template_rows": null,
            "height": null,
            "justify_content": null,
            "justify_items": null,
            "left": null,
            "margin": null,
            "max_height": null,
            "max_width": null,
            "min_height": null,
            "min_width": null,
            "object_fit": null,
            "object_position": null,
            "order": null,
            "overflow": null,
            "overflow_x": null,
            "overflow_y": null,
            "padding": null,
            "right": null,
            "top": null,
            "visibility": "hidden",
            "width": null
          }
        },
        "9d31abeccfa943638dc40100b7fa9e72": {
          "model_module": "@jupyter-widgets/controls",
          "model_module_version": "1.5.0",
          "model_name": "DescriptionStyleModel",
          "state": {
            "_model_module": "@jupyter-widgets/controls",
            "_model_module_version": "1.5.0",
            "_model_name": "DescriptionStyleModel",
            "_view_count": null,
            "_view_module": "@jupyter-widgets/base",
            "_view_module_version": "1.2.0",
            "_view_name": "StyleView",
            "description_width": ""
          }
        },
        "a4a3951581c24d4498cda005e299b848": {
          "model_module": "@jupyter-widgets/controls",
          "model_module_version": "1.5.0",
          "model_name": "HBoxModel",
          "state": {
            "_dom_classes": [],
            "_model_module": "@jupyter-widgets/controls",
            "_model_module_version": "1.5.0",
            "_model_name": "HBoxModel",
            "_view_count": null,
            "_view_module": "@jupyter-widgets/controls",
            "_view_module_version": "1.5.0",
            "_view_name": "HBoxView",
            "box_style": "",
            "children": [
              "IPY_MODEL_7ab5f306a9844a4cb3de02be4145330a",
              "IPY_MODEL_86c4397de31c474098482814127d994d",
              "IPY_MODEL_26c1f6be8afa4e7eb509a1a17e673a42"
            ],
            "layout": "IPY_MODEL_e6a3b198556640749d67dd7c354cabbe"
          }
        },
        "a8e1f01d7d1840ab9047b54daa0dedab": {
          "model_module": "@jupyter-widgets/controls",
          "model_module_version": "1.5.0",
          "model_name": "DescriptionStyleModel",
          "state": {
            "_model_module": "@jupyter-widgets/controls",
            "_model_module_version": "1.5.0",
            "_model_name": "DescriptionStyleModel",
            "_view_count": null,
            "_view_module": "@jupyter-widgets/base",
            "_view_module_version": "1.2.0",
            "_view_name": "StyleView",
            "description_width": ""
          }
        },
        "ab5b16f236c549d5bdfda3c25d6966a9": {
          "model_module": "@jupyter-widgets/controls",
          "model_module_version": "1.5.0",
          "model_name": "DescriptionStyleModel",
          "state": {
            "_model_module": "@jupyter-widgets/controls",
            "_model_module_version": "1.5.0",
            "_model_name": "DescriptionStyleModel",
            "_view_count": null,
            "_view_module": "@jupyter-widgets/base",
            "_view_module_version": "1.2.0",
            "_view_name": "StyleView",
            "description_width": ""
          }
        },
        "af59605acb804da7b9d45fb4e1662058": {
          "model_module": "@jupyter-widgets/base",
          "model_module_version": "1.2.0",
          "model_name": "LayoutModel",
          "state": {
            "_model_module": "@jupyter-widgets/base",
            "_model_module_version": "1.2.0",
            "_model_name": "LayoutModel",
            "_view_count": null,
            "_view_module": "@jupyter-widgets/base",
            "_view_module_version": "1.2.0",
            "_view_name": "LayoutView",
            "align_content": null,
            "align_items": null,
            "align_self": null,
            "border": null,
            "bottom": null,
            "display": null,
            "flex": null,
            "flex_flow": null,
            "grid_area": null,
            "grid_auto_columns": null,
            "grid_auto_flow": null,
            "grid_auto_rows": null,
            "grid_column": null,
            "grid_gap": null,
            "grid_row": null,
            "grid_template_areas": null,
            "grid_template_columns": null,
            "grid_template_rows": null,
            "height": null,
            "justify_content": null,
            "justify_items": null,
            "left": null,
            "margin": null,
            "max_height": null,
            "max_width": null,
            "min_height": null,
            "min_width": null,
            "object_fit": null,
            "object_position": null,
            "order": null,
            "overflow": null,
            "overflow_x": null,
            "overflow_y": null,
            "padding": null,
            "right": null,
            "top": null,
            "visibility": "hidden",
            "width": null
          }
        },
        "b602fa89227b42ba8e0b720a17b6f165": {
          "model_module": "@jupyter-widgets/controls",
          "model_module_version": "1.5.0",
          "model_name": "HTMLModel",
          "state": {
            "_dom_classes": [],
            "_model_module": "@jupyter-widgets/controls",
            "_model_module_version": "1.5.0",
            "_model_name": "HTMLModel",
            "_view_count": null,
            "_view_module": "@jupyter-widgets/controls",
            "_view_module_version": "1.5.0",
            "_view_name": "HTMLView",
            "description": "",
            "description_tooltip": null,
            "layout": "IPY_MODEL_676535c67fc8414880899ee9c619c8b3",
            "placeholder": "​",
            "style": "IPY_MODEL_02d8ca41dce3428aae719213898f9808",
            "value": "Downloading (…)solve/main/vocab.txt: 100%"
          }
        },
        "b7415e7430d8420099a2b3c771494318": {
          "model_module": "@jupyter-widgets/controls",
          "model_module_version": "1.5.0",
          "model_name": "HBoxModel",
          "state": {
            "_dom_classes": [],
            "_model_module": "@jupyter-widgets/controls",
            "_model_module_version": "1.5.0",
            "_model_name": "HBoxModel",
            "_view_count": null,
            "_view_module": "@jupyter-widgets/controls",
            "_view_module_version": "1.5.0",
            "_view_name": "HBoxView",
            "box_style": "",
            "children": [
              "IPY_MODEL_23fff6004f824067a08c6422a018e1c6",
              "IPY_MODEL_fd4e0d15643347a399d6aeb3161766be",
              "IPY_MODEL_d82fec3523ae4a14b289121340984018"
            ],
            "layout": "IPY_MODEL_9cda024d397341ada5a8ed99132baa10"
          }
        },
        "b9872955e4e14e75a0b7e4ba6a0646c2": {
          "model_module": "@jupyter-widgets/base",
          "model_module_version": "1.2.0",
          "model_name": "LayoutModel",
          "state": {
            "_model_module": "@jupyter-widgets/base",
            "_model_module_version": "1.2.0",
            "_model_name": "LayoutModel",
            "_view_count": null,
            "_view_module": "@jupyter-widgets/base",
            "_view_module_version": "1.2.0",
            "_view_name": "LayoutView",
            "align_content": null,
            "align_items": null,
            "align_self": null,
            "border": null,
            "bottom": null,
            "display": null,
            "flex": null,
            "flex_flow": null,
            "grid_area": null,
            "grid_auto_columns": null,
            "grid_auto_flow": null,
            "grid_auto_rows": null,
            "grid_column": null,
            "grid_gap": null,
            "grid_row": null,
            "grid_template_areas": null,
            "grid_template_columns": null,
            "grid_template_rows": null,
            "height": null,
            "justify_content": null,
            "justify_items": null,
            "left": null,
            "margin": null,
            "max_height": null,
            "max_width": null,
            "min_height": null,
            "min_width": null,
            "object_fit": null,
            "object_position": null,
            "order": null,
            "overflow": null,
            "overflow_x": null,
            "overflow_y": null,
            "padding": null,
            "right": null,
            "top": null,
            "visibility": null,
            "width": null
          }
        },
        "baac093d029a4426a27e4027611d2460": {
          "model_module": "@jupyter-widgets/controls",
          "model_module_version": "1.5.0",
          "model_name": "ProgressStyleModel",
          "state": {
            "_model_module": "@jupyter-widgets/controls",
            "_model_module_version": "1.5.0",
            "_model_name": "ProgressStyleModel",
            "_view_count": null,
            "_view_module": "@jupyter-widgets/base",
            "_view_module_version": "1.2.0",
            "_view_name": "StyleView",
            "bar_color": null,
            "description_width": ""
          }
        },
        "bea91c5f0e63441d82ff64cb34898593": {
          "model_module": "@jupyter-widgets/controls",
          "model_module_version": "1.5.0",
          "model_name": "HTMLModel",
          "state": {
            "_dom_classes": [],
            "_model_module": "@jupyter-widgets/controls",
            "_model_module_version": "1.5.0",
            "_model_name": "HTMLModel",
            "_view_count": null,
            "_view_module": "@jupyter-widgets/controls",
            "_view_module_version": "1.5.0",
            "_view_name": "HTMLView",
            "description": "",
            "description_tooltip": null,
            "layout": "IPY_MODEL_379dcb1534cc497b84066890e03ef532",
            "placeholder": "​",
            "style": "IPY_MODEL_ca2e3e6469d74c7493a65f55009c16b0",
            "value": "Map: 100%"
          }
        },
        "ca2e3e6469d74c7493a65f55009c16b0": {
          "model_module": "@jupyter-widgets/controls",
          "model_module_version": "1.5.0",
          "model_name": "DescriptionStyleModel",
          "state": {
            "_model_module": "@jupyter-widgets/controls",
            "_model_module_version": "1.5.0",
            "_model_name": "DescriptionStyleModel",
            "_view_count": null,
            "_view_module": "@jupyter-widgets/base",
            "_view_module_version": "1.2.0",
            "_view_name": "StyleView",
            "description_width": ""
          }
        },
        "cb70f5ca974d4f3790bd74ab798f4958": {
          "model_module": "@jupyter-widgets/base",
          "model_module_version": "1.2.0",
          "model_name": "LayoutModel",
          "state": {
            "_model_module": "@jupyter-widgets/base",
            "_model_module_version": "1.2.0",
            "_model_name": "LayoutModel",
            "_view_count": null,
            "_view_module": "@jupyter-widgets/base",
            "_view_module_version": "1.2.0",
            "_view_name": "LayoutView",
            "align_content": null,
            "align_items": null,
            "align_self": null,
            "border": null,
            "bottom": null,
            "display": null,
            "flex": null,
            "flex_flow": null,
            "grid_area": null,
            "grid_auto_columns": null,
            "grid_auto_flow": null,
            "grid_auto_rows": null,
            "grid_column": null,
            "grid_gap": null,
            "grid_row": null,
            "grid_template_areas": null,
            "grid_template_columns": null,
            "grid_template_rows": null,
            "height": null,
            "justify_content": null,
            "justify_items": null,
            "left": null,
            "margin": null,
            "max_height": null,
            "max_width": null,
            "min_height": null,
            "min_width": null,
            "object_fit": null,
            "object_position": null,
            "order": null,
            "overflow": null,
            "overflow_x": null,
            "overflow_y": null,
            "padding": null,
            "right": null,
            "top": null,
            "visibility": null,
            "width": null
          }
        },
        "d82fec3523ae4a14b289121340984018": {
          "model_module": "@jupyter-widgets/controls",
          "model_module_version": "1.5.0",
          "model_name": "HTMLModel",
          "state": {
            "_dom_classes": [],
            "_model_module": "@jupyter-widgets/controls",
            "_model_module_version": "1.5.0",
            "_model_name": "HTMLModel",
            "_view_count": null,
            "_view_module": "@jupyter-widgets/controls",
            "_view_module_version": "1.5.0",
            "_view_name": "HTMLView",
            "description": "",
            "description_tooltip": null,
            "layout": "IPY_MODEL_645ff88fe1f442b5b8916b2478fc0909",
            "placeholder": "​",
            "style": "IPY_MODEL_80fc74bc52554a339078b7ca3eb34a71",
            "value": " 204040/204045 [29:33&lt;00:00, 117.78 examples/s]"
          }
        },
        "e12dc078f7bd4c208d51598316e27b4a": {
          "model_module": "@jupyter-widgets/base",
          "model_module_version": "1.2.0",
          "model_name": "LayoutModel",
          "state": {
            "_model_module": "@jupyter-widgets/base",
            "_model_module_version": "1.2.0",
            "_model_name": "LayoutModel",
            "_view_count": null,
            "_view_module": "@jupyter-widgets/base",
            "_view_module_version": "1.2.0",
            "_view_name": "LayoutView",
            "align_content": null,
            "align_items": null,
            "align_self": null,
            "border": null,
            "bottom": null,
            "display": null,
            "flex": null,
            "flex_flow": null,
            "grid_area": null,
            "grid_auto_columns": null,
            "grid_auto_flow": null,
            "grid_auto_rows": null,
            "grid_column": null,
            "grid_gap": null,
            "grid_row": null,
            "grid_template_areas": null,
            "grid_template_columns": null,
            "grid_template_rows": null,
            "height": null,
            "justify_content": null,
            "justify_items": null,
            "left": null,
            "margin": null,
            "max_height": null,
            "max_width": null,
            "min_height": null,
            "min_width": null,
            "object_fit": null,
            "object_position": null,
            "order": null,
            "overflow": null,
            "overflow_x": null,
            "overflow_y": null,
            "padding": null,
            "right": null,
            "top": null,
            "visibility": null,
            "width": null
          }
        },
        "e461b628f8a741f48e7c758eb24e6dc8": {
          "model_module": "@jupyter-widgets/base",
          "model_module_version": "1.2.0",
          "model_name": "LayoutModel",
          "state": {
            "_model_module": "@jupyter-widgets/base",
            "_model_module_version": "1.2.0",
            "_model_name": "LayoutModel",
            "_view_count": null,
            "_view_module": "@jupyter-widgets/base",
            "_view_module_version": "1.2.0",
            "_view_name": "LayoutView",
            "align_content": null,
            "align_items": null,
            "align_self": null,
            "border": null,
            "bottom": null,
            "display": null,
            "flex": null,
            "flex_flow": null,
            "grid_area": null,
            "grid_auto_columns": null,
            "grid_auto_flow": null,
            "grid_auto_rows": null,
            "grid_column": null,
            "grid_gap": null,
            "grid_row": null,
            "grid_template_areas": null,
            "grid_template_columns": null,
            "grid_template_rows": null,
            "height": null,
            "justify_content": null,
            "justify_items": null,
            "left": null,
            "margin": null,
            "max_height": null,
            "max_width": null,
            "min_height": null,
            "min_width": null,
            "object_fit": null,
            "object_position": null,
            "order": null,
            "overflow": null,
            "overflow_x": null,
            "overflow_y": null,
            "padding": null,
            "right": null,
            "top": null,
            "visibility": null,
            "width": null
          }
        },
        "e6a3b198556640749d67dd7c354cabbe": {
          "model_module": "@jupyter-widgets/base",
          "model_module_version": "1.2.0",
          "model_name": "LayoutModel",
          "state": {
            "_model_module": "@jupyter-widgets/base",
            "_model_module_version": "1.2.0",
            "_model_name": "LayoutModel",
            "_view_count": null,
            "_view_module": "@jupyter-widgets/base",
            "_view_module_version": "1.2.0",
            "_view_name": "LayoutView",
            "align_content": null,
            "align_items": null,
            "align_self": null,
            "border": null,
            "bottom": null,
            "display": null,
            "flex": null,
            "flex_flow": null,
            "grid_area": null,
            "grid_auto_columns": null,
            "grid_auto_flow": null,
            "grid_auto_rows": null,
            "grid_column": null,
            "grid_gap": null,
            "grid_row": null,
            "grid_template_areas": null,
            "grid_template_columns": null,
            "grid_template_rows": null,
            "height": null,
            "justify_content": null,
            "justify_items": null,
            "left": null,
            "margin": null,
            "max_height": null,
            "max_width": null,
            "min_height": null,
            "min_width": null,
            "object_fit": null,
            "object_position": null,
            "order": null,
            "overflow": null,
            "overflow_x": null,
            "overflow_y": null,
            "padding": null,
            "right": null,
            "top": null,
            "visibility": null,
            "width": null
          }
        },
        "ea741ba2513f4e6e98e3cb6ac40b38e2": {
          "model_module": "@jupyter-widgets/controls",
          "model_module_version": "1.5.0",
          "model_name": "HBoxModel",
          "state": {
            "_dom_classes": [],
            "_model_module": "@jupyter-widgets/controls",
            "_model_module_version": "1.5.0",
            "_model_name": "HBoxModel",
            "_view_count": null,
            "_view_module": "@jupyter-widgets/controls",
            "_view_module_version": "1.5.0",
            "_view_name": "HBoxView",
            "box_style": "",
            "children": [
              "IPY_MODEL_44b798e5a28f4bfdb0f4bd0b1938954c",
              "IPY_MODEL_26933ab511f541a1af72f4deaee4ab6f",
              "IPY_MODEL_01678e2132634640b3b64c72bf4bb514"
            ],
            "layout": "IPY_MODEL_b9872955e4e14e75a0b7e4ba6a0646c2"
          }
        },
        "ecfd22b53d5b44b9a1ffd8671c5876ca": {
          "model_module": "@jupyter-widgets/controls",
          "model_module_version": "1.5.0",
          "model_name": "HBoxModel",
          "state": {
            "_dom_classes": [],
            "_model_module": "@jupyter-widgets/controls",
            "_model_module_version": "1.5.0",
            "_model_name": "HBoxModel",
            "_view_count": null,
            "_view_module": "@jupyter-widgets/controls",
            "_view_module_version": "1.5.0",
            "_view_name": "HBoxView",
            "box_style": "",
            "children": [
              "IPY_MODEL_b602fa89227b42ba8e0b720a17b6f165",
              "IPY_MODEL_5774504fff924f769d5ab9a628d83b2a",
              "IPY_MODEL_977bb73b9496419d8f5d2b66d85f17c2"
            ],
            "layout": "IPY_MODEL_424fda188011446d8ce51c3133ae4bfc"
          }
        },
        "ed445f9b65ac4d2ebca738d05f619263": {
          "model_module": "@jupyter-widgets/base",
          "model_module_version": "1.2.0",
          "model_name": "LayoutModel",
          "state": {
            "_model_module": "@jupyter-widgets/base",
            "_model_module_version": "1.2.0",
            "_model_name": "LayoutModel",
            "_view_count": null,
            "_view_module": "@jupyter-widgets/base",
            "_view_module_version": "1.2.0",
            "_view_name": "LayoutView",
            "align_content": null,
            "align_items": null,
            "align_self": null,
            "border": null,
            "bottom": null,
            "display": null,
            "flex": null,
            "flex_flow": null,
            "grid_area": null,
            "grid_auto_columns": null,
            "grid_auto_flow": null,
            "grid_auto_rows": null,
            "grid_column": null,
            "grid_gap": null,
            "grid_row": null,
            "grid_template_areas": null,
            "grid_template_columns": null,
            "grid_template_rows": null,
            "height": null,
            "justify_content": null,
            "justify_items": null,
            "left": null,
            "margin": null,
            "max_height": null,
            "max_width": null,
            "min_height": null,
            "min_width": null,
            "object_fit": null,
            "object_position": null,
            "order": null,
            "overflow": null,
            "overflow_x": null,
            "overflow_y": null,
            "padding": null,
            "right": null,
            "top": null,
            "visibility": null,
            "width": null
          }
        },
        "ed908112647b49f5837cf9b473bf3f4a": {
          "model_module": "@jupyter-widgets/base",
          "model_module_version": "1.2.0",
          "model_name": "LayoutModel",
          "state": {
            "_model_module": "@jupyter-widgets/base",
            "_model_module_version": "1.2.0",
            "_model_name": "LayoutModel",
            "_view_count": null,
            "_view_module": "@jupyter-widgets/base",
            "_view_module_version": "1.2.0",
            "_view_name": "LayoutView",
            "align_content": null,
            "align_items": null,
            "align_self": null,
            "border": null,
            "bottom": null,
            "display": null,
            "flex": null,
            "flex_flow": null,
            "grid_area": null,
            "grid_auto_columns": null,
            "grid_auto_flow": null,
            "grid_auto_rows": null,
            "grid_column": null,
            "grid_gap": null,
            "grid_row": null,
            "grid_template_areas": null,
            "grid_template_columns": null,
            "grid_template_rows": null,
            "height": null,
            "justify_content": null,
            "justify_items": null,
            "left": null,
            "margin": null,
            "max_height": null,
            "max_width": null,
            "min_height": null,
            "min_width": null,
            "object_fit": null,
            "object_position": null,
            "order": null,
            "overflow": null,
            "overflow_x": null,
            "overflow_y": null,
            "padding": null,
            "right": null,
            "top": null,
            "visibility": null,
            "width": null
          }
        },
        "f6f72605a51a4851b7fdaaaca8452c0c": {
          "model_module": "@jupyter-widgets/controls",
          "model_module_version": "1.5.0",
          "model_name": "ProgressStyleModel",
          "state": {
            "_model_module": "@jupyter-widgets/controls",
            "_model_module_version": "1.5.0",
            "_model_name": "ProgressStyleModel",
            "_view_count": null,
            "_view_module": "@jupyter-widgets/base",
            "_view_module_version": "1.2.0",
            "_view_name": "StyleView",
            "bar_color": null,
            "description_width": ""
          }
        },
        "f7926b4b3ef9429cac2d966adb56b5e8": {
          "model_module": "@jupyter-widgets/controls",
          "model_module_version": "1.5.0",
          "model_name": "DescriptionStyleModel",
          "state": {
            "_model_module": "@jupyter-widgets/controls",
            "_model_module_version": "1.5.0",
            "_model_name": "DescriptionStyleModel",
            "_view_count": null,
            "_view_module": "@jupyter-widgets/base",
            "_view_module_version": "1.2.0",
            "_view_name": "StyleView",
            "description_width": ""
          }
        },
        "fab7402bb1a34fb1ad1557f2b0846228": {
          "model_module": "@jupyter-widgets/base",
          "model_module_version": "1.2.0",
          "model_name": "LayoutModel",
          "state": {
            "_model_module": "@jupyter-widgets/base",
            "_model_module_version": "1.2.0",
            "_model_name": "LayoutModel",
            "_view_count": null,
            "_view_module": "@jupyter-widgets/base",
            "_view_module_version": "1.2.0",
            "_view_name": "LayoutView",
            "align_content": null,
            "align_items": null,
            "align_self": null,
            "border": null,
            "bottom": null,
            "display": null,
            "flex": null,
            "flex_flow": null,
            "grid_area": null,
            "grid_auto_columns": null,
            "grid_auto_flow": null,
            "grid_auto_rows": null,
            "grid_column": null,
            "grid_gap": null,
            "grid_row": null,
            "grid_template_areas": null,
            "grid_template_columns": null,
            "grid_template_rows": null,
            "height": null,
            "justify_content": null,
            "justify_items": null,
            "left": null,
            "margin": null,
            "max_height": null,
            "max_width": null,
            "min_height": null,
            "min_width": null,
            "object_fit": null,
            "object_position": null,
            "order": null,
            "overflow": null,
            "overflow_x": null,
            "overflow_y": null,
            "padding": null,
            "right": null,
            "top": null,
            "visibility": null,
            "width": null
          }
        },
        "fd4e0d15643347a399d6aeb3161766be": {
          "model_module": "@jupyter-widgets/controls",
          "model_module_version": "1.5.0",
          "model_name": "FloatProgressModel",
          "state": {
            "_dom_classes": [],
            "_model_module": "@jupyter-widgets/controls",
            "_model_module_version": "1.5.0",
            "_model_name": "FloatProgressModel",
            "_view_count": null,
            "_view_module": "@jupyter-widgets/controls",
            "_view_module_version": "1.5.0",
            "_view_name": "ProgressView",
            "bar_style": "",
            "description": "",
            "description_tooltip": null,
            "layout": "IPY_MODEL_09a4c3086e994a6cae94a7e956bc8feb",
            "max": 204045,
            "min": 0,
            "orientation": "horizontal",
            "style": "IPY_MODEL_6c8c5e2a08434e6a858496e0f91f0b93",
            "value": 204045
          }
        }
      }
    }
  },
  "nbformat": 4,
  "nbformat_minor": 0
}